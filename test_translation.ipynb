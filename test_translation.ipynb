{
 "cells": [
  {
   "cell_type": "markdown",
   "metadata": {},
   "source": [
    "# 1. polglot-ko-1.3b를 squarelike/sharegpt_deepl_ko_translation로 파인 튜닝한 모델"
   ]
  },
  {
   "cell_type": "code",
   "execution_count": 1,
   "metadata": {},
   "outputs": [],
   "source": [
    "import torch\n",
    "from transformers import AutoTokenizer, AutoModelForCausalLM, BitsAndBytesConfig\n",
    "\n",
    "model_id = \"aeolian83/Gugugo_for_DnD_v0.7\"\n",
    "bnb_config = BitsAndBytesConfig(\n",
    "    load_in_4bit=True,\n",
    "    bnb_4bit_use_double_quant=True,\n",
    "    bnb_4bit_quant_type=\"nf4\",\n",
    "    bnb_4bit_compute_dtype=torch.bfloat16\n",
    ")\n",
    "\n",
    "tokenizer = AutoTokenizer.from_pretrained(model_id)\n",
    "model = AutoModelForCausalLM.from_pretrained(model_id, quantization_config=bnb_config, device_map=\"auto\")"
   ]
  },
  {
   "cell_type": "code",
   "execution_count": 2,
   "metadata": {},
   "outputs": [],
   "source": [
    "model.eval()\n",
    "model.config.use_cache = True  # silence the warnings. Please re-enable for inference!"
   ]
  },
  {
   "cell_type": "code",
   "execution_count": 3,
   "metadata": {},
   "outputs": [],
   "source": [
    "from transformers import StoppingCriteria, StoppingCriteriaList\n",
    "\n",
    "class StoppingCriteriaSub(StoppingCriteria):\n",
    "\n",
    "    def __init__(self, stops = [], encounters=1):\n",
    "        super().__init__()\n",
    "        self.stops = [stop for stop in stops]\n",
    "\n",
    "    def __call__(self, input_ids: torch.LongTensor, scores: torch.FloatTensor):\n",
    "        for stop in self.stops:\n",
    "            if torch.all((stop == input_ids[0][-len(stop):])).item():\n",
    "                return True\n",
    "\n",
    "        return False\n",
    "\n",
    "stop_words = [\"</끝>\"]\n",
    "stop_words_ids = [tokenizer(stop_word, return_tensors='pt')['input_ids'].squeeze() for stop_word in stop_words]\n",
    "stopping_criteria = StoppingCriteriaList([StoppingCriteriaSub(stops=stop_words_ids)])"
   ]
  },
  {
   "cell_type": "code",
   "execution_count": 4,
   "metadata": {},
   "outputs": [],
   "source": [
    "def gen(lan=\"en\", x=\"\"):\n",
    "    if (lan == \"ko\"):\n",
    "        prompt = f\"### 한국어: {x}</끝>\\n### 영어:\"\n",
    "    else:\n",
    "        prompt = f\"### 영어: {x}</끝>\\n### 한국어:\"\n",
    "    gened = model.generate(\n",
    "        **tokenizer(\n",
    "            prompt,\n",
    "            return_tensors='pt',\n",
    "            return_token_type_ids=False\n",
    "        ),\n",
    "        max_new_tokens=2048,\n",
    "        temperature=0.001,\n",
    "        no_repeat_ngram_size=10,\n",
    "        early_stopping=True,\n",
    "        eos_token_id=2,\n",
    "        stopping_criteria=stopping_criteria\n",
    "    )\n",
    "    return tokenizer.decode(gened[0]).replace(prompt+\" \", \"\")"
   ]
  },
  {
   "cell_type": "code",
   "execution_count": 5,
   "metadata": {},
   "outputs": [
    {
     "name": "stdout",
     "output_type": "stream",
     "text": [
      "52168\n",
      "52168\n",
      "222785\n",
      "222785\n"
     ]
    }
   ],
   "source": [
    "import xml.etree.ElementTree as ET\n",
    "import pandas as pd\n",
    "\n",
    "# xml파일 파싱해서 contestuid를 key로 하고 문자열을 value로 하는 사전을 리턴\n",
    "# contestuid가 중복이 있을 경우 그에 따른 메세지 도출\n",
    "\n",
    "def parse_xml_to_dict(script_dir):\n",
    "    result_dict = {}\n",
    "    tree = ET.parse(script_dir)\n",
    "    root = tree.getroot()\n",
    "    \n",
    "    # root = ET.fromstring(xml_content)\n",
    "    for content_elem in root.findall('content'):\n",
    "        contentuid = content_elem.get('contentuid')\n",
    "        content_text = content_elem.text\n",
    "        if result_dict.get(contentuid) == None:\n",
    "            result_dict[contentuid] = content_text\n",
    "        else:\n",
    "            print(\"Duplicate Key!!\", contentuid, content_text)\n",
    "        \n",
    "    return result_dict\n",
    "\n",
    "def detect_language(text):\n",
    "    total_chars = len(text)\n",
    "\n",
    "    korean_count = sum(1 for char in text if 0xAC00 <= ord(char) <= 0xD7A3)\n",
    "\n",
    "    return korean_count / total_chars #>= 0.5\n",
    "\n",
    "userTranslate_path = \"./train_data/BG3(raw)/ht_ko_en.xml\"\n",
    "english_path = \"./train_data/BG3(raw)/en.xml\"\n",
    "\n",
    "userTranslate_dict = parse_xml_to_dict(userTranslate_path)\n",
    "english_dict = parse_xml_to_dict(english_path)\n",
    "\n",
    "english_corp = []\n",
    "korean_corp = []\n",
    "target_key = []\n",
    "korean_key = []\n",
    "\n",
    "for key in english_dict:\n",
    "    if detect_language(userTranslate_dict[key]) >= 0.4:\n",
    "        korean_corp.append(userTranslate_dict[key])\n",
    "        english_corp.append(english_dict[key])\n",
    "        korean_key.append(key)\n",
    "    else:\n",
    "        target_key.append(key)\n",
    "\n",
    "print(len(korean_corp))\n",
    "print(len(english_corp))\n",
    "print(len(english_dict))\n",
    "print(len(userTranslate_dict))"
   ]
  },
  {
   "cell_type": "code",
   "execution_count": 20,
   "metadata": {},
   "outputs": [
    {
     "name": "stderr",
     "output_type": "stream",
     "text": [
      "Setting `pad_token_id` to `eos_token_id`:2 for open-end generation.\n"
     ]
    },
    {
     "data": {
      "text/plain": [
       "'가난하고 어두운 어린 시절을 보낸 후에는, 얼마나 많은 것을 얻을 수 있는지 알고 있을 거요. 당신의 거리의 지혜를 이용하면 앞으로 나아갈 여정에 당신의 영혼을 불어넣을 수 있소.</끝>'"
      ]
     },
     "execution_count": 20,
     "metadata": {},
     "output_type": "execute_result"
    }
   ],
   "source": [
    "gen(lan=\"en\", x=english_dict[korean_key[35806]])"
   ]
  },
  {
   "cell_type": "code",
   "execution_count": 7,
   "metadata": {},
   "outputs": [],
   "source": [
    "# gen(lan=\"en\", x=\"While you are wearing armor, you gain a +1 bonus to AC.\")"
   ]
  },
  {
   "cell_type": "code",
   "execution_count": 8,
   "metadata": {},
   "outputs": [],
   "source": [
    "# gen(lan=\"en\", x=\"Chultans are the human natives of Chult. They have dark skin, black hair, and a rich culture. Driven out of the jungle by monsters and undead, they took refuge behind the stout walls of Port Nyanzaru, gave up their dynasties, and united to become a mercantile power in the southern ocean, eager to do business with anyone who visits their perilous land. A few Chultans migrated northward and established outposts in dis tant cities such as Athkatla, Baldur's Gate, Cali mport, Memnon, and Zazesspur.\")"
   ]
  },
  {
   "cell_type": "code",
   "execution_count": 9,
   "metadata": {},
   "outputs": [],
   "source": [
    "# gen(lan=\"en\", x=\"The bell tower rises another 10 feet above the thatched roof of the bailey, making it 30 feet tall overa ll. In a normal day, the bell is ru ng twelve times : it's run g every four hours to s ignal the change of watch, and it's rung 10 minutes before each of those to signal that a change of watch is about to occur. At the change of the watch, it 's rung a number of times equaling the number of the watch: once at the start of the first watch, twice at the start of the second watch, and so forth. On what the garrison calls \\\"the wake-ups,\\\" it rings once.\")"
   ]
  },
  {
   "cell_type": "code",
   "execution_count": 10,
   "metadata": {},
   "outputs": [
    {
     "name": "stderr",
     "output_type": "stream",
     "text": [
      "Setting `pad_token_id` to `eos_token_id`:2 for open-end generation.\n"
     ]
    },
    {
     "data": {
      "text/plain": [
       "'녹색의 망아지, 나니푸는, 녹색 망아지가 손에 든 망치로 옛 거인의 역할을 하고 있다. 그녀는 남쪽에 있는 언덕에 살고 있는 날개 달린 생명체들에 의해 수천 년 동안 많은 사람들이 죽었다고 주장한다.</끝>'"
      ]
     },
     "execution_count": 10,
     "metadata": {},
     "output_type": "execute_result"
    }
   ],
   "source": [
    "gen(lan=\"en\", x=\"Nanny Pu'pu, a green hag, plays the part of an ancient crone to the hilt. She claims that a ll the other villagers were killed over the course of many years by winged creatures that live on the south side of the plateau.\")"
   ]
  },
  {
   "cell_type": "code",
   "execution_count": 11,
   "metadata": {},
   "outputs": [
    {
     "name": "stderr",
     "output_type": "stream",
     "text": [
      "Setting `pad_token_id` to `eos_token_id`:2 for open-end generation.\n"
     ]
    },
    {
     "data": {
      "text/plain": [
       "'에릭, 아홉 개의 사원을 찾으러 왔소. V.</끝>'"
      ]
     },
     "execution_count": 11,
     "metadata": {},
     "output_type": "execute_result"
    }
   ],
   "source": [
    "gen(lan=\"en\", x=\"Erik, I've gone in search of the nine shrines. V.\")"
   ]
  },
  {
   "cell_type": "code",
   "execution_count": null,
   "metadata": {},
   "outputs": [],
   "source": []
  },
  {
   "cell_type": "code",
   "execution_count": null,
   "metadata": {},
   "outputs": [],
   "source": []
  },
  {
   "cell_type": "code",
   "execution_count": null,
   "metadata": {},
   "outputs": [],
   "source": []
  }
 ],
 "metadata": {
  "kernelspec": {
   "display_name": "translateDnD",
   "language": "python",
   "name": "python3"
  },
  "language_info": {
   "codemirror_mode": {
    "name": "ipython",
    "version": 3
   },
   "file_extension": ".py",
   "mimetype": "text/x-python",
   "name": "python",
   "nbconvert_exporter": "python",
   "pygments_lexer": "ipython3",
   "version": "3.10.9"
  },
  "orig_nbformat": 4
 },
 "nbformat": 4,
 "nbformat_minor": 2
}
