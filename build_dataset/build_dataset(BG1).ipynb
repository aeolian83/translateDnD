{
 "cells": [
  {
   "cell_type": "markdown",
   "metadata": {},
   "source": [
    "# BG1 tranlate Dataset Build\n",
    "\n",
    "## (1) tlk parser"
   ]
  },
  {
   "cell_type": "code",
   "execution_count": 1,
   "metadata": {},
   "outputs": [],
   "source": [
    "# tlk parser from https://github.com/3zhang/TLK-v1-file-parser-for-Python\n",
    "\n",
    "# -*- coding: utf-8 -*-\n",
    "\n",
    "#Author 3Zhang\n",
    "\n",
    "import struct\n",
    "\n",
    "b2i=lambda bstr:struct.unpack('i',bstr)[0]\n",
    "b2h=lambda bstr:struct.unpack('h',bstr)[0]\n",
    "i2b=lambda i:struct.pack('i',i)\n",
    "h2b=lambda i:struct.pack('h',i)\n",
    "\n",
    "\n",
    "#This is the version information of the header. Do not edit.\n",
    "HEADER_C=b'\\x54\\x4c\\x4b\\x20\\x56\\x31\\x20\\x20\\x00\\x00'\n",
    "COLORRED=\"\\033[01;31m{0}\\033[00m\"\n",
    "\n",
    "\n",
    "#a class to store each entry\n",
    "class entry:\n",
    "    def __init__(self,ent,n,string=None):\n",
    "        self.No=n\n",
    "        self.entype=b2h(ent[:2])\n",
    "        self.soundinfo=ent[2:18]\n",
    "        self.offset=b2i(ent[18:22])\n",
    "        self.size=b2i(ent[22:])\n",
    "        self.string=string\n",
    "        \n",
    "    def __repr__(self):\n",
    "        return repr((self.No,self.entype,self.soundinfo,self.offset,self.size,self.string.decode('utf-8')))\n",
    "    \n",
    "    def __eq__(self, other):\n",
    "        return (self.No,self.entype,self.soundinfo,self.offset,self.size,self.string) \\\n",
    "            == (other.No,other.entype,other.soundinfo,other.offset,other.size,other.string)\n",
    "\n",
    "\n",
    "#read a tlk file. return a list of entries\n",
    "def readialog(filepath):\n",
    "    with open(filepath,'rb') as file:\n",
    "        dg=file.read()\n",
    "    header=dg[:18]\n",
    "    str_o=b2i(header[14:18])\n",
    "    strings=dg[str_o:]\n",
    "    entries=dg[18:str_o]\n",
    "    entry_l=[entries[i:i+26] for i in range(0,len(entries),26)]\n",
    "    entry_l2=[entry(ent,i) for i,ent in enumerate(entry_l)]\n",
    "    for i,ent in enumerate(entry_l2):\n",
    "        entry_l2[i].string=strings[ent.offset:ent.offset+ent.size]\n",
    "    return entry_l2\n",
    "        \n",
    "#Edit your dialog here. Note that string for each entry needs to be decode.\n",
    "#Also, after you edit the strings, you need to encode them to binary strings.\n",
    "\n",
    "\n",
    "#sort a list of entries and refresh its size and offset. You must do this after you finish editing the strings.\n",
    "def refreshdialog(entryl):\n",
    "    if sum([not isinstance(ent.string,bytes) for ent in entryl])>0:\n",
    "        raise TypeError('String must be encoded to bytes!')\n",
    "    entryl.sort(key=lambda x:x.No)\n",
    "    if [ent.No for ent in entryl]!=list(range(0,len(entryl))):\n",
    "        print(COLORRED.format('Warning: List index is not equal to stringref index!'))\n",
    "    offset=0\n",
    "    for i,ent in enumerate(entryl):\n",
    "        size=len(ent.string)\n",
    "        entryl[i].size=size    \n",
    "        entryl[i].offset=offset if size>0 else 0\n",
    "        offset+=size\n",
    "        \n",
    "\n",
    "#You must refresh the list of entries before you write them to file.\n",
    "def writedialog(entryl,filepath):\n",
    "    length=i2b(len(entryl))\n",
    "    entries=[]\n",
    "    for ent in entryl:\n",
    "        entype=h2b(ent.entype)\n",
    "        soundinfo=ent.soundinfo\n",
    "        offset=i2b(ent.offset)\n",
    "        size=i2b(ent.size)\n",
    "        entb=entype+soundinfo+offset+size\n",
    "        entries.append(entb)\n",
    "    entries=b''.join(entries)\n",
    "    soffset=i2b(18+len(entries))\n",
    "    header=HEADER_C+length+soffset\n",
    "    strings=[ent.string for ent in entryl]\n",
    "    strings=b''.join(strings)\n",
    "    dialog=header+entries+strings\n",
    "    with open(filepath,'wb') as file:\n",
    "        file.write(dialog)"
   ]
  },
  {
   "cell_type": "markdown",
   "metadata": {},
   "source": [
    "## (2) BG1 Dialog extract"
   ]
  },
  {
   "cell_type": "code",
   "execution_count": 2,
   "metadata": {},
   "outputs": [],
   "source": [
    "dial_en = readialog(r\"../train_data/BG1(raw)/dialog_en.tlk\")\n",
    "dial_kr = readialog(r\"../train_data/BG1(raw)/dialog_ko.tlk\")"
   ]
  },
  {
   "cell_type": "code",
   "execution_count": 3,
   "metadata": {},
   "outputs": [
    {
     "name": "stdout",
     "output_type": "stream",
     "text": [
      "34000\n"
     ]
    },
    {
     "data": {
      "text/plain": [
       "[(0, 5, b'\\x00\\x00\\x00\\x00\\x00\\x00\\x00\\x00\\x00\\x00\\x00\\x00\\x00\\x00\\x00\\x00', 0, 9, '<NO TEXT>'),\n",
       " (1, 1, b'\\x00\\x00\\x00\\x00\\x00\\x00\\x00\\x00\\x00\\x00\\x00\\x00\\x00\\x00\\x00\\x00', 9, 86, '왜 여기서 나를 방해하지? 그대는 예의라는 것을 모르나? 나가게!'),\n",
       " (2, 5, b'\\x00\\x00\\x00\\x00\\x00\\x00\\x00\\x00\\x00\\x00\\x00\\x00\\x00\\x00\\x00\\x00', 95, 437, '그래, <CHARNAME>. 그대는 그대 아버지 고라이온의 고향을 더럽히고 수세기에 걸쳐 유지해온 평화에 몰락을 불러와 그 이름에 먹칠을 했네. 그대와 그대의 동료들은 경멸을 받아 마땅하며, 그 죄는 가장 가혹한 형벌로 다스려질 것이네. 나는 그대를 브루노스 코스탁, 그리고 리엘타 안체브를 살해한 혐의로 정식으로 기소하는 바이네.'),\n",
       " (3, 1, b'\\x00\\x00\\x00\\x00\\x00\\x00\\x00\\x00\\x00\\x00\\x00\\x00\\x00\\x00\\x00\\x00', 532, 346, '내가 왜 그대를 기소했겠나? 그대가 살인 현장에서 도망치던 모습을 누군가 보았단 말이네. 코베라스가 그대의 소지품에서 섀도우 씨프 암살자임을 증명하는 반지와 앰에서 주조된 금화를 발견했지. 이 정도 증거라면 그대를 기소하기에 충분하다고 생각하네만.'),\n",
       " (4, 1, b'\\x00\\x00\\x00\\x00\\x00\\x00\\x00\\x00\\x00\\x00\\x00\\x00\\x00\\x00\\x00\\x00', 878, 101, '그대가 피살 현장에서 도주하는 것이 코베라스라는 방문객에게 목격되었네.')]"
      ]
     },
     "execution_count": 3,
     "metadata": {},
     "output_type": "execute_result"
    }
   ],
   "source": [
    "print(len(dial_kr))\n",
    "\n",
    "dial_kr[:5]"
   ]
  },
  {
   "cell_type": "code",
   "execution_count": 4,
   "metadata": {},
   "outputs": [
    {
     "name": "stdout",
     "output_type": "stream",
     "text": [
      "34000\n"
     ]
    },
    {
     "data": {
      "text/plain": [
       "[(0, 5, b'\\x00\\x00\\x00\\x00\\x00\\x00\\x00\\x00\\x00\\x00\\x00\\x00\\x00\\x00\\x00\\x00', 0, 9, '<NO TEXT>'),\n",
       " (1, 1, b'\\x00\\x00\\x00\\x00\\x00\\x00\\x00\\x00\\x00\\x00\\x00\\x00\\x00\\x00\\x00\\x00', 9, 63, 'Why hast thou disturbed me here? Hast thou no manners? Get out!'),\n",
       " (2, 5, b'\\x00\\x00\\x00\\x00\\x00\\x00\\x00\\x00\\x00\\x00\\x00\\x00\\x00\\x00\\x00\\x00', 72, 307, \"So, <CHARNAME>, you have sullied your father's name by defiling his home and bringing ruin to a peace that has lasted for centuries. I spit on you and all of your friends. Your transgressions will be punished in the most severe form. I formally accuse you of the murders of Brunos Costak and Rieltar Anchev.\"),\n",
       " (3, 1, b'\\x00\\x00\\x00\\x00\\x00\\x00\\x00\\x00\\x00\\x00\\x00\\x00\\x00\\x00\\x00\\x00', 379, 228, 'Why have I accused you? You were seen fleeing the murder scene. Koveras found the identifying ring of a Shadow Thief assassin in your personal effects, and gold minted in Amn. I feel that it is strong enough proof to accuse you.'),\n",
       " (4, 1, b'\\x00\\x00\\x00\\x00\\x00\\x00\\x00\\x00\\x00\\x00\\x00\\x00\\x00\\x00\\x00\\x00', 607, 75, 'You were seen fleeing the site of the murder by the guest known as Koveras.')]"
      ]
     },
     "execution_count": 4,
     "metadata": {},
     "output_type": "execute_result"
    }
   ],
   "source": [
    "print(len(dial_kr))\n",
    "\n",
    "dial_en[:5]"
   ]
  },
  {
   "cell_type": "code",
   "execution_count": 5,
   "metadata": {},
   "outputs": [
    {
     "data": {
      "text/plain": [
       "b\"From everything we have seen and found, it is not hard to figure what your purpose was. From what I have been told, you have been trying to place all the misfortune of the Sword Coast squarely on the shoulders of the Iron Throne. I assume you and your friends are assassins in the employ of Amn. Perhaps you were sent up north to create discord in the region before an Amnian invasion. It matters little; you and your friends are to be sent to Baldur's Gate where an appropriate punishment will be administered.\""
      ]
     },
     "execution_count": 5,
     "metadata": {},
     "output_type": "execute_result"
    }
   ],
   "source": [
    "dial_en[5].string"
   ]
  },
  {
   "cell_type": "code",
   "execution_count": 6,
   "metadata": {},
   "outputs": [
    {
     "name": "stdout",
     "output_type": "stream",
     "text": [
      "Andris's Journal\n",
      "안드리스의 일지\n"
     ]
    }
   ],
   "source": [
    "print(dial_en[24000].string.decode('utf-8'))\n",
    "print(dial_kr[24000].string.decode('utf-8'))"
   ]
  },
  {
   "cell_type": "markdown",
   "metadata": {},
   "source": [
    "## (2) Preprocess & Make DataFrame"
   ]
  },
  {
   "cell_type": "code",
   "execution_count": 7,
   "metadata": {},
   "outputs": [],
   "source": [
    "import pandas as pd\n",
    "import numpy as np"
   ]
  },
  {
   "cell_type": "markdown",
   "metadata": {},
   "source": [
    "### 1) 해석이 안되어서 겹치는 문장 제거"
   ]
  },
  {
   "cell_type": "code",
   "execution_count": 8,
   "metadata": {},
   "outputs": [],
   "source": [
    "english_list = []\n",
    "korean_list = []\n",
    "\n",
    "for i in range(len(dial_en)):\n",
    "    english_list.append(dial_en[i].string.decode('utf-8'))\n",
    "    korean_list.append(dial_kr[i].string.decode('utf-8'))\n"
   ]
  },
  {
   "cell_type": "code",
   "execution_count": 9,
   "metadata": {},
   "outputs": [
    {
     "name": "stdout",
     "output_type": "stream",
     "text": [
      "34000\n",
      "34000\n",
      "겹치는 문장개수: 2742\n"
     ]
    }
   ],
   "source": [
    "print(len(korean_list))\n",
    "print(len(english_list))\n",
    "\n",
    "double_list =[]\n",
    "for i, (elem1, elem2) in enumerate(zip(english_list, korean_list)):\n",
    "    if not elem1 == elem2:\n",
    "        continue\n",
    "    double_list.append(i)\n",
    "\n",
    "print(\"겹치는 문장개수:\", len(double_list))"
   ]
  },
  {
   "cell_type": "code",
   "execution_count": 10,
   "metadata": {},
   "outputs": [
    {
     "name": "stdout",
     "output_type": "stream",
     "text": [
      "2742\n",
      "34000\n",
      "34000\n",
      "Done\n",
      "31258\n",
      "31258\n"
     ]
    }
   ],
   "source": [
    "print(len(double_list))\n",
    "print(len(korean_list))\n",
    "print(len(english_list))\n",
    "\n",
    "clean_english_list = []\n",
    "clean_korean_list = []\n",
    "\n",
    "for elem1, elem2 in zip(english_list, korean_list):\n",
    "    if elem1 is not None and elem2 is not None:\n",
    "        if elem1 != elem2:\n",
    "            clean_english_list.append(elem1)\n",
    "            clean_korean_list.append(elem2)\n",
    "        \n",
    "print(\"Done\")\n",
    "print(len(clean_english_list))\n",
    "print(len(clean_korean_list))"
   ]
  },
  {
   "cell_type": "code",
   "execution_count": 11,
   "metadata": {},
   "outputs": [],
   "source": [
    "df_dialog_BG1 = pd.DataFrame(columns = [\"english\", \"korean\"])\n",
    "\n",
    "df_dialog_BG1[\"english\"] = clean_english_list\n",
    "df_dialog_BG1[\"korean\"] = clean_korean_list"
   ]
  },
  {
   "cell_type": "code",
   "execution_count": 12,
   "metadata": {},
   "outputs": [
    {
     "data": {
      "text/html": [
       "<div>\n",
       "<style scoped>\n",
       "    .dataframe tbody tr th:only-of-type {\n",
       "        vertical-align: middle;\n",
       "    }\n",
       "\n",
       "    .dataframe tbody tr th {\n",
       "        vertical-align: top;\n",
       "    }\n",
       "\n",
       "    .dataframe thead th {\n",
       "        text-align: right;\n",
       "    }\n",
       "</style>\n",
       "<table border=\"1\" class=\"dataframe\">\n",
       "  <thead>\n",
       "    <tr style=\"text-align: right;\">\n",
       "      <th></th>\n",
       "      <th>english</th>\n",
       "      <th>korean</th>\n",
       "    </tr>\n",
       "  </thead>\n",
       "  <tbody>\n",
       "    <tr>\n",
       "      <th>0</th>\n",
       "      <td>Why hast thou disturbed me here? Hast thou no ...</td>\n",
       "      <td>왜 여기서 나를 방해하지? 그대는 예의라는 것을 모르나? 나가게!</td>\n",
       "    </tr>\n",
       "    <tr>\n",
       "      <th>1</th>\n",
       "      <td>So, &lt;CHARNAME&gt;, you have sullied your father's...</td>\n",
       "      <td>그래, &lt;CHARNAME&gt;. 그대는 그대 아버지 고라이온의 고향을 더럽히고 수세기에...</td>\n",
       "    </tr>\n",
       "    <tr>\n",
       "      <th>2</th>\n",
       "      <td>Why have I accused you? You were seen fleeing ...</td>\n",
       "      <td>내가 왜 그대를 기소했겠나? 그대가 살인 현장에서 도망치던 모습을 누군가 보았단 말...</td>\n",
       "    </tr>\n",
       "    <tr>\n",
       "      <th>3</th>\n",
       "      <td>You were seen fleeing the site of the murder b...</td>\n",
       "      <td>그대가 피살 현장에서 도주하는 것이 코베라스라는 방문객에게 목격되었네.</td>\n",
       "    </tr>\n",
       "    <tr>\n",
       "      <th>4</th>\n",
       "      <td>From everything we have seen and found, it is ...</td>\n",
       "      <td>우리가 지금까지 보고 수집한 사실로부터 그대의 목적을 알아차리는 것은 어려운 일이 ...</td>\n",
       "    </tr>\n",
       "    <tr>\n",
       "      <th>5</th>\n",
       "      <td>But I have done nothing wrong! Why have you ac...</td>\n",
       "      <td>하지만 난 아무런 잘못도 하지 않았소! 도대체 왜 그런 일로 날 기소하는 거요?</td>\n",
       "    </tr>\n",
       "    <tr>\n",
       "      <th>6</th>\n",
       "      <td>Fine. Do your worst, you old coot.</td>\n",
       "      <td>좋아, 뭐든지 할 테면 해보시지, 이 늙은 멍청아.</td>\n",
       "    </tr>\n",
       "    <tr>\n",
       "      <th>7</th>\n",
       "      <td>But I have done nothing wrong! Why have you ac...</td>\n",
       "      <td>하지만 난 아무런 잘못도 하지 않았소! 도대체 왜 그런 일로 날 기소하는 거요?</td>\n",
       "    </tr>\n",
       "    <tr>\n",
       "      <th>8</th>\n",
       "      <td>I am pleased to see thee again. Hast thou come...</td>\n",
       "      <td>다시 만나게 되어 반갑네. 그대 아버지의 유품을 가지러 왔는가? 그는 여러 물건을 ...</td>\n",
       "    </tr>\n",
       "    <tr>\n",
       "      <th>9</th>\n",
       "      <td>Surrender to the guard, young one. Thou woulds...</td>\n",
       "      <td>경비병에게 항복하게, 젊은이. 상황을 악화시킬 뿐이야.</td>\n",
       "    </tr>\n",
       "  </tbody>\n",
       "</table>\n",
       "</div>"
      ],
      "text/plain": [
       "                                             english  \\\n",
       "0  Why hast thou disturbed me here? Hast thou no ...   \n",
       "1  So, <CHARNAME>, you have sullied your father's...   \n",
       "2  Why have I accused you? You were seen fleeing ...   \n",
       "3  You were seen fleeing the site of the murder b...   \n",
       "4  From everything we have seen and found, it is ...   \n",
       "5  But I have done nothing wrong! Why have you ac...   \n",
       "6                 Fine. Do your worst, you old coot.   \n",
       "7  But I have done nothing wrong! Why have you ac...   \n",
       "8  I am pleased to see thee again. Hast thou come...   \n",
       "9  Surrender to the guard, young one. Thou woulds...   \n",
       "\n",
       "                                              korean  \n",
       "0               왜 여기서 나를 방해하지? 그대는 예의라는 것을 모르나? 나가게!  \n",
       "1  그래, <CHARNAME>. 그대는 그대 아버지 고라이온의 고향을 더럽히고 수세기에...  \n",
       "2  내가 왜 그대를 기소했겠나? 그대가 살인 현장에서 도망치던 모습을 누군가 보았단 말...  \n",
       "3            그대가 피살 현장에서 도주하는 것이 코베라스라는 방문객에게 목격되었네.  \n",
       "4  우리가 지금까지 보고 수집한 사실로부터 그대의 목적을 알아차리는 것은 어려운 일이 ...  \n",
       "5       하지만 난 아무런 잘못도 하지 않았소! 도대체 왜 그런 일로 날 기소하는 거요?  \n",
       "6                       좋아, 뭐든지 할 테면 해보시지, 이 늙은 멍청아.  \n",
       "7       하지만 난 아무런 잘못도 하지 않았소! 도대체 왜 그런 일로 날 기소하는 거요?  \n",
       "8  다시 만나게 되어 반갑네. 그대 아버지의 유품을 가지러 왔는가? 그는 여러 물건을 ...  \n",
       "9                     경비병에게 항복하게, 젊은이. 상황을 악화시킬 뿐이야.  "
      ]
     },
     "execution_count": 12,
     "metadata": {},
     "output_type": "execute_result"
    }
   ],
   "source": [
    "df_dialog_BG1.head(10)"
   ]
  },
  {
   "cell_type": "code",
   "execution_count": 13,
   "metadata": {},
   "outputs": [
    {
     "data": {
      "text/html": [
       "<div>\n",
       "<style scoped>\n",
       "    .dataframe tbody tr th:only-of-type {\n",
       "        vertical-align: middle;\n",
       "    }\n",
       "\n",
       "    .dataframe tbody tr th {\n",
       "        vertical-align: top;\n",
       "    }\n",
       "\n",
       "    .dataframe thead th {\n",
       "        text-align: right;\n",
       "    }\n",
       "</style>\n",
       "<table border=\"1\" class=\"dataframe\">\n",
       "  <thead>\n",
       "    <tr style=\"text-align: right;\">\n",
       "      <th></th>\n",
       "      <th>english</th>\n",
       "      <th>korean</th>\n",
       "    </tr>\n",
       "  </thead>\n",
       "  <tbody>\n",
       "    <tr>\n",
       "      <th>31248</th>\n",
       "      <td>Aauughh! Dynaheir has been slain! For what pur...</td>\n",
       "      <td>아아악! 다이나헤어가 살해되었다니! 이제 난 무얼 해야 하지? 불명예를 안고 고향으...</td>\n",
       "    </tr>\n",
       "    <tr>\n",
       "      <th>31249</th>\n",
       "      <td>A witch, you say? Oh, right. She's dead.</td>\n",
       "      <td>마녀라고 했소? 오, 그렇지. 그녀는 죽었소.</td>\n",
       "    </tr>\n",
       "    <tr>\n",
       "      <th>31250</th>\n",
       "      <td>A witch, you say? Oh, right. I rescued her. We...</td>\n",
       "      <td>마녀라고 했소? 오, 그렇지. 그녀를 구출했소. 우린 헤어졌지.</td>\n",
       "    </tr>\n",
       "    <tr>\n",
       "      <th>31251</th>\n",
       "      <td>(She is gone! Rashemaar fools tramping about t...</td>\n",
       "      <td>(그녀가 가버렸군! 라셰멘 멍청이들이 렐름을 헤매다니, 테이의 눈을 피할 수 있으리...</td>\n",
       "    </tr>\n",
       "    <tr>\n",
       "      <th>31252</th>\n",
       "      <td>A Ring for a Lady\\nI have given Fergus a ring ...</td>\n",
       "      <td>숙녀를 위한 반지\\n페르거스에게 숙녀에게 사랑을 바칠 반지를 건내주었다. 행운이 따...</td>\n",
       "    </tr>\n",
       "    <tr>\n",
       "      <th>31253</th>\n",
       "      <td>Troubles in the Region: Rumors and Happenings\\...</td>\n",
       "      <td>지역 내 문제들\\n내쉬켈 광산의 깊숙한 곳을 파헤쳤으므로, 베런 개스트킬에게 돌아가...</td>\n",
       "    </tr>\n",
       "    <tr>\n",
       "      <th>31254</th>\n",
       "      <td>Marek's Poison</td>\n",
       "      <td>마렉의 독</td>\n",
       "    </tr>\n",
       "    <tr>\n",
       "      <th>31255</th>\n",
       "      <td>Find Familiar\\n(Conjuration/Summoning)\\n\\nLeve...</td>\n",
       "      <td>Find Familiar\\n(Conjuration/Summoning)\\nLevel:...</td>\n",
       "    </tr>\n",
       "    <tr>\n",
       "      <th>31256</th>\n",
       "      <td>Shapeshift: Sword Spider\\n\\nStrength: 16\\nDext...</td>\n",
       "      <td>Shapeshift: Sword Spider\\nStrength: 16\\nDexter...</td>\n",
       "    </tr>\n",
       "    <tr>\n",
       "      <th>31257</th>\n",
       "      <td>Psionic Blast\\nA mind flayer's preferred metho...</td>\n",
       "      <td>Psionic Blast\\nA mind flayer's preferred metho...</td>\n",
       "    </tr>\n",
       "  </tbody>\n",
       "</table>\n",
       "</div>"
      ],
      "text/plain": [
       "                                                 english  \\\n",
       "31248  Aauughh! Dynaheir has been slain! For what pur...   \n",
       "31249           A witch, you say? Oh, right. She's dead.   \n",
       "31250  A witch, you say? Oh, right. I rescued her. We...   \n",
       "31251  (She is gone! Rashemaar fools tramping about t...   \n",
       "31252  A Ring for a Lady\\nI have given Fergus a ring ...   \n",
       "31253  Troubles in the Region: Rumors and Happenings\\...   \n",
       "31254                                     Marek's Poison   \n",
       "31255  Find Familiar\\n(Conjuration/Summoning)\\n\\nLeve...   \n",
       "31256  Shapeshift: Sword Spider\\n\\nStrength: 16\\nDext...   \n",
       "31257  Psionic Blast\\nA mind flayer's preferred metho...   \n",
       "\n",
       "                                                  korean  \n",
       "31248  아아악! 다이나헤어가 살해되었다니! 이제 난 무얼 해야 하지? 불명예를 안고 고향으...  \n",
       "31249                          마녀라고 했소? 오, 그렇지. 그녀는 죽었소.  \n",
       "31250                마녀라고 했소? 오, 그렇지. 그녀를 구출했소. 우린 헤어졌지.  \n",
       "31251  (그녀가 가버렸군! 라셰멘 멍청이들이 렐름을 헤매다니, 테이의 눈을 피할 수 있으리...  \n",
       "31252  숙녀를 위한 반지\\n페르거스에게 숙녀에게 사랑을 바칠 반지를 건내주었다. 행운이 따...  \n",
       "31253  지역 내 문제들\\n내쉬켈 광산의 깊숙한 곳을 파헤쳤으므로, 베런 개스트킬에게 돌아가...  \n",
       "31254                                              마렉의 독  \n",
       "31255  Find Familiar\\n(Conjuration/Summoning)\\nLevel:...  \n",
       "31256  Shapeshift: Sword Spider\\nStrength: 16\\nDexter...  \n",
       "31257  Psionic Blast\\nA mind flayer's preferred metho...  "
      ]
     },
     "execution_count": 13,
     "metadata": {},
     "output_type": "execute_result"
    }
   ],
   "source": [
    "df_dialog_BG1.tail(10)"
   ]
  },
  {
   "cell_type": "markdown",
   "metadata": {},
   "source": [
    "### 2) 필요없는 문자열 제거"
   ]
  },
  {
   "cell_type": "code",
   "execution_count": 14,
   "metadata": {},
   "outputs": [],
   "source": [
    "df_dialog_BG1.drop(df_dialog_BG1.index[31255:31258], axis=0, inplace=True)"
   ]
  },
  {
   "cell_type": "code",
   "execution_count": 15,
   "metadata": {},
   "outputs": [
    {
     "data": {
      "text/html": [
       "<div>\n",
       "<style scoped>\n",
       "    .dataframe tbody tr th:only-of-type {\n",
       "        vertical-align: middle;\n",
       "    }\n",
       "\n",
       "    .dataframe tbody tr th {\n",
       "        vertical-align: top;\n",
       "    }\n",
       "\n",
       "    .dataframe thead th {\n",
       "        text-align: right;\n",
       "    }\n",
       "</style>\n",
       "<table border=\"1\" class=\"dataframe\">\n",
       "  <thead>\n",
       "    <tr style=\"text-align: right;\">\n",
       "      <th></th>\n",
       "      <th>english</th>\n",
       "      <th>korean</th>\n",
       "    </tr>\n",
       "  </thead>\n",
       "  <tbody>\n",
       "    <tr>\n",
       "      <th>31250</th>\n",
       "      <td>A witch, you say? Oh, right. I rescued her. We...</td>\n",
       "      <td>마녀라고 했소? 오, 그렇지. 그녀를 구출했소. 우린 헤어졌지.</td>\n",
       "    </tr>\n",
       "    <tr>\n",
       "      <th>31251</th>\n",
       "      <td>(She is gone! Rashemaar fools tramping about t...</td>\n",
       "      <td>(그녀가 가버렸군! 라셰멘 멍청이들이 렐름을 헤매다니, 테이의 눈을 피할 수 있으리...</td>\n",
       "    </tr>\n",
       "    <tr>\n",
       "      <th>31252</th>\n",
       "      <td>A Ring for a Lady\\nI have given Fergus a ring ...</td>\n",
       "      <td>숙녀를 위한 반지\\n페르거스에게 숙녀에게 사랑을 바칠 반지를 건내주었다. 행운이 따...</td>\n",
       "    </tr>\n",
       "    <tr>\n",
       "      <th>31253</th>\n",
       "      <td>Troubles in the Region: Rumors and Happenings\\...</td>\n",
       "      <td>지역 내 문제들\\n내쉬켈 광산의 깊숙한 곳을 파헤쳤으므로, 베런 개스트킬에게 돌아가...</td>\n",
       "    </tr>\n",
       "    <tr>\n",
       "      <th>31254</th>\n",
       "      <td>Marek's Poison</td>\n",
       "      <td>마렉의 독</td>\n",
       "    </tr>\n",
       "  </tbody>\n",
       "</table>\n",
       "</div>"
      ],
      "text/plain": [
       "                                                 english  \\\n",
       "31250  A witch, you say? Oh, right. I rescued her. We...   \n",
       "31251  (She is gone! Rashemaar fools tramping about t...   \n",
       "31252  A Ring for a Lady\\nI have given Fergus a ring ...   \n",
       "31253  Troubles in the Region: Rumors and Happenings\\...   \n",
       "31254                                     Marek's Poison   \n",
       "\n",
       "                                                  korean  \n",
       "31250                마녀라고 했소? 오, 그렇지. 그녀를 구출했소. 우린 헤어졌지.  \n",
       "31251  (그녀가 가버렸군! 라셰멘 멍청이들이 렐름을 헤매다니, 테이의 눈을 피할 수 있으리...  \n",
       "31252  숙녀를 위한 반지\\n페르거스에게 숙녀에게 사랑을 바칠 반지를 건내주었다. 행운이 따...  \n",
       "31253  지역 내 문제들\\n내쉬켈 광산의 깊숙한 곳을 파헤쳤으므로, 베런 개스트킬에게 돌아가...  \n",
       "31254                                              마렉의 독  "
      ]
     },
     "execution_count": 15,
     "metadata": {},
     "output_type": "execute_result"
    }
   ],
   "source": [
    "df_dialog_BG1.tail()"
   ]
  },
  {
   "cell_type": "code",
   "execution_count": 16,
   "metadata": {},
   "outputs": [
    {
     "data": {
      "text/html": [
       "<div>\n",
       "<style scoped>\n",
       "    .dataframe tbody tr th:only-of-type {\n",
       "        vertical-align: middle;\n",
       "    }\n",
       "\n",
       "    .dataframe tbody tr th {\n",
       "        vertical-align: top;\n",
       "    }\n",
       "\n",
       "    .dataframe thead th {\n",
       "        text-align: right;\n",
       "    }\n",
       "</style>\n",
       "<table border=\"1\" class=\"dataframe\">\n",
       "  <thead>\n",
       "    <tr style=\"text-align: right;\">\n",
       "      <th></th>\n",
       "      <th>english</th>\n",
       "      <th>korean</th>\n",
       "    </tr>\n",
       "  </thead>\n",
       "  <tbody>\n",
       "    <tr>\n",
       "      <th>0</th>\n",
       "      <td>Why hast thou disturbed me here? Hast thou no ...</td>\n",
       "      <td>왜 여기서 나를 방해하지? 그대는 예의라는 것을 모르나? 나가게!</td>\n",
       "    </tr>\n",
       "    <tr>\n",
       "      <th>1</th>\n",
       "      <td>So, &lt;CHARNAME&gt;, you have sullied your father's...</td>\n",
       "      <td>그래, &lt;CHARNAME&gt;. 그대는 그대 아버지 고라이온의 고향을 더럽히고 수세기에...</td>\n",
       "    </tr>\n",
       "    <tr>\n",
       "      <th>2</th>\n",
       "      <td>Why have I accused you? You were seen fleeing ...</td>\n",
       "      <td>내가 왜 그대를 기소했겠나? 그대가 살인 현장에서 도망치던 모습을 누군가 보았단 말...</td>\n",
       "    </tr>\n",
       "    <tr>\n",
       "      <th>3</th>\n",
       "      <td>You were seen fleeing the site of the murder b...</td>\n",
       "      <td>그대가 피살 현장에서 도주하는 것이 코베라스라는 방문객에게 목격되었네.</td>\n",
       "    </tr>\n",
       "    <tr>\n",
       "      <th>4</th>\n",
       "      <td>From everything we have seen and found, it is ...</td>\n",
       "      <td>우리가 지금까지 보고 수집한 사실로부터 그대의 목적을 알아차리는 것은 어려운 일이 ...</td>\n",
       "    </tr>\n",
       "    <tr>\n",
       "      <th>...</th>\n",
       "      <td>...</td>\n",
       "      <td>...</td>\n",
       "    </tr>\n",
       "    <tr>\n",
       "      <th>31250</th>\n",
       "      <td>A witch, you say? Oh, right. I rescued her. We...</td>\n",
       "      <td>마녀라고 했소? 오, 그렇지. 그녀를 구출했소. 우린 헤어졌지.</td>\n",
       "    </tr>\n",
       "    <tr>\n",
       "      <th>31251</th>\n",
       "      <td>(She is gone! Rashemaar fools tramping about t...</td>\n",
       "      <td>(그녀가 가버렸군! 라셰멘 멍청이들이 렐름을 헤매다니, 테이의 눈을 피할 수 있으리...</td>\n",
       "    </tr>\n",
       "    <tr>\n",
       "      <th>31252</th>\n",
       "      <td>A Ring for a Lady\\nI have given Fergus a ring ...</td>\n",
       "      <td>숙녀를 위한 반지\\n페르거스에게 숙녀에게 사랑을 바칠 반지를 건내주었다. 행운이 따...</td>\n",
       "    </tr>\n",
       "    <tr>\n",
       "      <th>31253</th>\n",
       "      <td>Troubles in the Region: Rumors and Happenings\\...</td>\n",
       "      <td>지역 내 문제들\\n내쉬켈 광산의 깊숙한 곳을 파헤쳤으므로, 베런 개스트킬에게 돌아가...</td>\n",
       "    </tr>\n",
       "    <tr>\n",
       "      <th>31254</th>\n",
       "      <td>Marek's Poison</td>\n",
       "      <td>마렉의 독</td>\n",
       "    </tr>\n",
       "  </tbody>\n",
       "</table>\n",
       "<p>31255 rows × 2 columns</p>\n",
       "</div>"
      ],
      "text/plain": [
       "                                                 english  \\\n",
       "0      Why hast thou disturbed me here? Hast thou no ...   \n",
       "1      So, <CHARNAME>, you have sullied your father's...   \n",
       "2      Why have I accused you? You were seen fleeing ...   \n",
       "3      You were seen fleeing the site of the murder b...   \n",
       "4      From everything we have seen and found, it is ...   \n",
       "...                                                  ...   \n",
       "31250  A witch, you say? Oh, right. I rescued her. We...   \n",
       "31251  (She is gone! Rashemaar fools tramping about t...   \n",
       "31252  A Ring for a Lady\\nI have given Fergus a ring ...   \n",
       "31253  Troubles in the Region: Rumors and Happenings\\...   \n",
       "31254                                     Marek's Poison   \n",
       "\n",
       "                                                  korean  \n",
       "0                   왜 여기서 나를 방해하지? 그대는 예의라는 것을 모르나? 나가게!  \n",
       "1      그래, <CHARNAME>. 그대는 그대 아버지 고라이온의 고향을 더럽히고 수세기에...  \n",
       "2      내가 왜 그대를 기소했겠나? 그대가 살인 현장에서 도망치던 모습을 누군가 보았단 말...  \n",
       "3                그대가 피살 현장에서 도주하는 것이 코베라스라는 방문객에게 목격되었네.  \n",
       "4      우리가 지금까지 보고 수집한 사실로부터 그대의 목적을 알아차리는 것은 어려운 일이 ...  \n",
       "...                                                  ...  \n",
       "31250                마녀라고 했소? 오, 그렇지. 그녀를 구출했소. 우린 헤어졌지.  \n",
       "31251  (그녀가 가버렸군! 라셰멘 멍청이들이 렐름을 헤매다니, 테이의 눈을 피할 수 있으리...  \n",
       "31252  숙녀를 위한 반지\\n페르거스에게 숙녀에게 사랑을 바칠 반지를 건내주었다. 행운이 따...  \n",
       "31253  지역 내 문제들\\n내쉬켈 광산의 깊숙한 곳을 파헤쳤으므로, 베런 개스트킬에게 돌아가...  \n",
       "31254                                              마렉의 독  \n",
       "\n",
       "[31255 rows x 2 columns]"
      ]
     },
     "execution_count": 16,
     "metadata": {},
     "output_type": "execute_result"
    }
   ],
   "source": [
    "df_dialog_BG1"
   ]
  },
  {
   "cell_type": "markdown",
   "metadata": {},
   "source": [
    "### 3) 결측치 제거"
   ]
  },
  {
   "cell_type": "code",
   "execution_count": 17,
   "metadata": {},
   "outputs": [
    {
     "name": "stdout",
     "output_type": "stream",
     "text": [
      "Index([29749], dtype='int64')\n"
     ]
    }
   ],
   "source": [
    "short_string_indexes = df_dialog_BG1.index[df_dialog_BG1.applymap(lambda x: len(x) == 0).any(axis=1)]\n",
    "\n",
    "print(short_string_indexes)"
   ]
  },
  {
   "cell_type": "code",
   "execution_count": 18,
   "metadata": {},
   "outputs": [
    {
     "data": {
      "text/plain": [
       "english     \n",
       "korean      \n",
       "Name: 29749, dtype: object"
      ]
     },
     "execution_count": 18,
     "metadata": {},
     "output_type": "execute_result"
    }
   ],
   "source": [
    "df_dialog_BG1.iloc[29749]"
   ]
  },
  {
   "cell_type": "code",
   "execution_count": 19,
   "metadata": {},
   "outputs": [],
   "source": [
    "df_dialog_BG1.drop(short_string_indexes, axis=0, inplace=True)"
   ]
  },
  {
   "cell_type": "code",
   "execution_count": 20,
   "metadata": {},
   "outputs": [
    {
     "data": {
      "text/html": [
       "<div>\n",
       "<style scoped>\n",
       "    .dataframe tbody tr th:only-of-type {\n",
       "        vertical-align: middle;\n",
       "    }\n",
       "\n",
       "    .dataframe tbody tr th {\n",
       "        vertical-align: top;\n",
       "    }\n",
       "\n",
       "    .dataframe thead th {\n",
       "        text-align: right;\n",
       "    }\n",
       "</style>\n",
       "<table border=\"1\" class=\"dataframe\">\n",
       "  <thead>\n",
       "    <tr style=\"text-align: right;\">\n",
       "      <th></th>\n",
       "      <th>english</th>\n",
       "      <th>korean</th>\n",
       "    </tr>\n",
       "  </thead>\n",
       "  <tbody>\n",
       "    <tr>\n",
       "      <th>0</th>\n",
       "      <td>Why hast thou disturbed me here? Hast thou no ...</td>\n",
       "      <td>왜 여기서 나를 방해하지? 그대는 예의라는 것을 모르나? 나가게!</td>\n",
       "    </tr>\n",
       "    <tr>\n",
       "      <th>1</th>\n",
       "      <td>So, &lt;CHARNAME&gt;, you have sullied your father's...</td>\n",
       "      <td>그래, &lt;CHARNAME&gt;. 그대는 그대 아버지 고라이온의 고향을 더럽히고 수세기에...</td>\n",
       "    </tr>\n",
       "    <tr>\n",
       "      <th>2</th>\n",
       "      <td>Why have I accused you? You were seen fleeing ...</td>\n",
       "      <td>내가 왜 그대를 기소했겠나? 그대가 살인 현장에서 도망치던 모습을 누군가 보았단 말...</td>\n",
       "    </tr>\n",
       "    <tr>\n",
       "      <th>3</th>\n",
       "      <td>You were seen fleeing the site of the murder b...</td>\n",
       "      <td>그대가 피살 현장에서 도주하는 것이 코베라스라는 방문객에게 목격되었네.</td>\n",
       "    </tr>\n",
       "    <tr>\n",
       "      <th>4</th>\n",
       "      <td>From everything we have seen and found, it is ...</td>\n",
       "      <td>우리가 지금까지 보고 수집한 사실로부터 그대의 목적을 알아차리는 것은 어려운 일이 ...</td>\n",
       "    </tr>\n",
       "    <tr>\n",
       "      <th>...</th>\n",
       "      <td>...</td>\n",
       "      <td>...</td>\n",
       "    </tr>\n",
       "    <tr>\n",
       "      <th>31250</th>\n",
       "      <td>A witch, you say? Oh, right. I rescued her. We...</td>\n",
       "      <td>마녀라고 했소? 오, 그렇지. 그녀를 구출했소. 우린 헤어졌지.</td>\n",
       "    </tr>\n",
       "    <tr>\n",
       "      <th>31251</th>\n",
       "      <td>(She is gone! Rashemaar fools tramping about t...</td>\n",
       "      <td>(그녀가 가버렸군! 라셰멘 멍청이들이 렐름을 헤매다니, 테이의 눈을 피할 수 있으리...</td>\n",
       "    </tr>\n",
       "    <tr>\n",
       "      <th>31252</th>\n",
       "      <td>A Ring for a Lady\\nI have given Fergus a ring ...</td>\n",
       "      <td>숙녀를 위한 반지\\n페르거스에게 숙녀에게 사랑을 바칠 반지를 건내주었다. 행운이 따...</td>\n",
       "    </tr>\n",
       "    <tr>\n",
       "      <th>31253</th>\n",
       "      <td>Troubles in the Region: Rumors and Happenings\\...</td>\n",
       "      <td>지역 내 문제들\\n내쉬켈 광산의 깊숙한 곳을 파헤쳤으므로, 베런 개스트킬에게 돌아가...</td>\n",
       "    </tr>\n",
       "    <tr>\n",
       "      <th>31254</th>\n",
       "      <td>Marek's Poison</td>\n",
       "      <td>마렉의 독</td>\n",
       "    </tr>\n",
       "  </tbody>\n",
       "</table>\n",
       "<p>31254 rows × 2 columns</p>\n",
       "</div>"
      ],
      "text/plain": [
       "                                                 english  \\\n",
       "0      Why hast thou disturbed me here? Hast thou no ...   \n",
       "1      So, <CHARNAME>, you have sullied your father's...   \n",
       "2      Why have I accused you? You were seen fleeing ...   \n",
       "3      You were seen fleeing the site of the murder b...   \n",
       "4      From everything we have seen and found, it is ...   \n",
       "...                                                  ...   \n",
       "31250  A witch, you say? Oh, right. I rescued her. We...   \n",
       "31251  (She is gone! Rashemaar fools tramping about t...   \n",
       "31252  A Ring for a Lady\\nI have given Fergus a ring ...   \n",
       "31253  Troubles in the Region: Rumors and Happenings\\...   \n",
       "31254                                     Marek's Poison   \n",
       "\n",
       "                                                  korean  \n",
       "0                   왜 여기서 나를 방해하지? 그대는 예의라는 것을 모르나? 나가게!  \n",
       "1      그래, <CHARNAME>. 그대는 그대 아버지 고라이온의 고향을 더럽히고 수세기에...  \n",
       "2      내가 왜 그대를 기소했겠나? 그대가 살인 현장에서 도망치던 모습을 누군가 보았단 말...  \n",
       "3                그대가 피살 현장에서 도주하는 것이 코베라스라는 방문객에게 목격되었네.  \n",
       "4      우리가 지금까지 보고 수집한 사실로부터 그대의 목적을 알아차리는 것은 어려운 일이 ...  \n",
       "...                                                  ...  \n",
       "31250                마녀라고 했소? 오, 그렇지. 그녀를 구출했소. 우린 헤어졌지.  \n",
       "31251  (그녀가 가버렸군! 라셰멘 멍청이들이 렐름을 헤매다니, 테이의 눈을 피할 수 있으리...  \n",
       "31252  숙녀를 위한 반지\\n페르거스에게 숙녀에게 사랑을 바칠 반지를 건내주었다. 행운이 따...  \n",
       "31253  지역 내 문제들\\n내쉬켈 광산의 깊숙한 곳을 파헤쳤으므로, 베런 개스트킬에게 돌아가...  \n",
       "31254                                              마렉의 독  \n",
       "\n",
       "[31254 rows x 2 columns]"
      ]
     },
     "execution_count": 20,
     "metadata": {},
     "output_type": "execute_result"
    }
   ],
   "source": [
    "df_dialog_BG1"
   ]
  },
  {
   "cell_type": "markdown",
   "metadata": {},
   "source": [
    "## (3) Concat DataFrame\n",
    "\n",
    "### 1) Load DataFrame"
   ]
  },
  {
   "cell_type": "code",
   "execution_count": 21,
   "metadata": {},
   "outputs": [],
   "source": [
    "df_dialog_set = pd.read_csv(\"../train_data/dialog_BG2_POE2.csv\", lineterminator='\\n')"
   ]
  },
  {
   "cell_type": "code",
   "execution_count": 22,
   "metadata": {},
   "outputs": [
    {
     "data": {
      "text/html": [
       "<div>\n",
       "<style scoped>\n",
       "    .dataframe tbody tr th:only-of-type {\n",
       "        vertical-align: middle;\n",
       "    }\n",
       "\n",
       "    .dataframe tbody tr th {\n",
       "        vertical-align: top;\n",
       "    }\n",
       "\n",
       "    .dataframe thead th {\n",
       "        text-align: right;\n",
       "    }\n",
       "</style>\n",
       "<table border=\"1\" class=\"dataframe\">\n",
       "  <thead>\n",
       "    <tr style=\"text-align: right;\">\n",
       "      <th></th>\n",
       "      <th>num</th>\n",
       "      <th>english</th>\n",
       "      <th>korean</th>\n",
       "    </tr>\n",
       "  </thead>\n",
       "  <tbody>\n",
       "    <tr>\n",
       "      <th>0</th>\n",
       "      <td>0</td>\n",
       "      <td>No, I'm sorry, none of them sound familiar.</td>\n",
       "      <td>아니오, 미안하지만, 그것들 가운데 아는 것은 없소.</td>\n",
       "    </tr>\n",
       "    <tr>\n",
       "      <th>1</th>\n",
       "      <td>1</td>\n",
       "      <td>You played Elminster?</td>\n",
       "      <td>엘민스터를 연기했습니까?</td>\n",
       "    </tr>\n",
       "    <tr>\n",
       "      <th>2</th>\n",
       "      <td>2</td>\n",
       "      <td>Uh, the yugoloth, was it? Yeah, you stole the ...</td>\n",
       "      <td>어, 유골로스, 맞습니까? 그래요, 내 기억이 맞다면 당신은 그것으로 쇼를 독차지했었소.</td>\n",
       "    </tr>\n",
       "    <tr>\n",
       "      <th>3</th>\n",
       "      <td>3</td>\n",
       "      <td>And, who knows, we were rehearsing for Picocci...</td>\n",
       "      <td>그리고, 누가 압니까, 우리는 피코키오의 \"에테르 속에서의 사흘간\"을 연습하고 있었...</td>\n",
       "    </tr>\n",
       "    <tr>\n",
       "      <th>4</th>\n",
       "      <td>4</td>\n",
       "      <td>Oh, my dark ravens, let us stop our squawking....</td>\n",
       "      <td>오, 이제 불평은 그만둡시다. 만약 당신이 계속 나와 함께 할 생각이라면, 나는 이...</td>\n",
       "    </tr>\n",
       "    <tr>\n",
       "      <th>...</th>\n",
       "      <td>...</td>\n",
       "      <td>...</td>\n",
       "      <td>...</td>\n",
       "    </tr>\n",
       "    <tr>\n",
       "      <th>117175</th>\n",
       "      <td>117175</td>\n",
       "      <td>A horrid beast wanders the White Void. Put an ...</td>\n",
       "      <td>무시무시한 짐승이 하얀 간극을 거닐고 있습니다. 그 공허한 존재에 종말을 가져다주십...</td>\n",
       "    </tr>\n",
       "    <tr>\n",
       "      <th>117176</th>\n",
       "      <td>117176</td>\n",
       "      <td>A collection of tortured souls wanders forgott...</td>\n",
       "      <td>고통받은 영혼들의 무리가 잊혀진 대지를 거닐고 있습니다. 그것을 찾아내 안식을 선사...</td>\n",
       "    </tr>\n",
       "    <tr>\n",
       "      <th>117177</th>\n",
       "      <td>117177</td>\n",
       "      <td>Something dreadful stirs within the Black Isle...</td>\n",
       "      <td>무시무시한 존재가 검은 군도 내에서 움직이며, 에오타스보다 더 끔찍한 위협을 초래하...</td>\n",
       "    </tr>\n",
       "    <tr>\n",
       "      <th>117178</th>\n",
       "      <td>117178</td>\n",
       "      <td>Quest Failed.</td>\n",
       "      <td>퀘스트에 실패했습니다.</td>\n",
       "    </tr>\n",
       "    <tr>\n",
       "      <th>117179</th>\n",
       "      <td>117179</td>\n",
       "      <td>You have completed the Ultimate.</td>\n",
       "      <td>궁극의 도전을 완료했습니다.</td>\n",
       "    </tr>\n",
       "  </tbody>\n",
       "</table>\n",
       "<p>117180 rows × 3 columns</p>\n",
       "</div>"
      ],
      "text/plain": [
       "           num                                            english  \\\n",
       "0            0        No, I'm sorry, none of them sound familiar.   \n",
       "1            1                              You played Elminster?   \n",
       "2            2  Uh, the yugoloth, was it? Yeah, you stole the ...   \n",
       "3            3  And, who knows, we were rehearsing for Picocci...   \n",
       "4            4  Oh, my dark ravens, let us stop our squawking....   \n",
       "...        ...                                                ...   \n",
       "117175  117175  A horrid beast wanders the White Void. Put an ...   \n",
       "117176  117176  A collection of tortured souls wanders forgott...   \n",
       "117177  117177  Something dreadful stirs within the Black Isle...   \n",
       "117178  117178                                      Quest Failed.   \n",
       "117179  117179                   You have completed the Ultimate.   \n",
       "\n",
       "                                                   korean  \n",
       "0                           아니오, 미안하지만, 그것들 가운데 아는 것은 없소.  \n",
       "1                                           엘민스터를 연기했습니까?  \n",
       "2       어, 유골로스, 맞습니까? 그래요, 내 기억이 맞다면 당신은 그것으로 쇼를 독차지했었소.  \n",
       "3       그리고, 누가 압니까, 우리는 피코키오의 \"에테르 속에서의 사흘간\"을 연습하고 있었...  \n",
       "4       오, 이제 불평은 그만둡시다. 만약 당신이 계속 나와 함께 할 생각이라면, 나는 이...  \n",
       "...                                                   ...  \n",
       "117175  무시무시한 짐승이 하얀 간극을 거닐고 있습니다. 그 공허한 존재에 종말을 가져다주십...  \n",
       "117176  고통받은 영혼들의 무리가 잊혀진 대지를 거닐고 있습니다. 그것을 찾아내 안식을 선사...  \n",
       "117177  무시무시한 존재가 검은 군도 내에서 움직이며, 에오타스보다 더 끔찍한 위협을 초래하...  \n",
       "117178                                       퀘스트에 실패했습니다.  \n",
       "117179                                    궁극의 도전을 완료했습니다.  \n",
       "\n",
       "[117180 rows x 3 columns]"
      ]
     },
     "execution_count": 22,
     "metadata": {},
     "output_type": "execute_result"
    }
   ],
   "source": [
    "df_dialog_set"
   ]
  },
  {
   "cell_type": "markdown",
   "metadata": {},
   "source": [
    "### 2) Concat DataFrame"
   ]
  },
  {
   "cell_type": "code",
   "execution_count": 23,
   "metadata": {},
   "outputs": [],
   "source": [
    "df_dialog = pd.concat([df_dialog_set, df_dialog_BG1])"
   ]
  },
  {
   "cell_type": "code",
   "execution_count": 24,
   "metadata": {},
   "outputs": [
    {
     "data": {
      "text/html": [
       "<div>\n",
       "<style scoped>\n",
       "    .dataframe tbody tr th:only-of-type {\n",
       "        vertical-align: middle;\n",
       "    }\n",
       "\n",
       "    .dataframe tbody tr th {\n",
       "        vertical-align: top;\n",
       "    }\n",
       "\n",
       "    .dataframe thead th {\n",
       "        text-align: right;\n",
       "    }\n",
       "</style>\n",
       "<table border=\"1\" class=\"dataframe\">\n",
       "  <thead>\n",
       "    <tr style=\"text-align: right;\">\n",
       "      <th></th>\n",
       "      <th>num</th>\n",
       "      <th>english</th>\n",
       "      <th>korean</th>\n",
       "    </tr>\n",
       "  </thead>\n",
       "  <tbody>\n",
       "    <tr>\n",
       "      <th>0</th>\n",
       "      <td>0.0</td>\n",
       "      <td>No, I'm sorry, none of them sound familiar.</td>\n",
       "      <td>아니오, 미안하지만, 그것들 가운데 아는 것은 없소.</td>\n",
       "    </tr>\n",
       "    <tr>\n",
       "      <th>1</th>\n",
       "      <td>1.0</td>\n",
       "      <td>You played Elminster?</td>\n",
       "      <td>엘민스터를 연기했습니까?</td>\n",
       "    </tr>\n",
       "    <tr>\n",
       "      <th>2</th>\n",
       "      <td>2.0</td>\n",
       "      <td>Uh, the yugoloth, was it? Yeah, you stole the ...</td>\n",
       "      <td>어, 유골로스, 맞습니까? 그래요, 내 기억이 맞다면 당신은 그것으로 쇼를 독차지했었소.</td>\n",
       "    </tr>\n",
       "    <tr>\n",
       "      <th>3</th>\n",
       "      <td>3.0</td>\n",
       "      <td>And, who knows, we were rehearsing for Picocci...</td>\n",
       "      <td>그리고, 누가 압니까, 우리는 피코키오의 \"에테르 속에서의 사흘간\"을 연습하고 있었...</td>\n",
       "    </tr>\n",
       "    <tr>\n",
       "      <th>4</th>\n",
       "      <td>4.0</td>\n",
       "      <td>Oh, my dark ravens, let us stop our squawking....</td>\n",
       "      <td>오, 이제 불평은 그만둡시다. 만약 당신이 계속 나와 함께 할 생각이라면, 나는 이...</td>\n",
       "    </tr>\n",
       "    <tr>\n",
       "      <th>...</th>\n",
       "      <td>...</td>\n",
       "      <td>...</td>\n",
       "      <td>...</td>\n",
       "    </tr>\n",
       "    <tr>\n",
       "      <th>31250</th>\n",
       "      <td>NaN</td>\n",
       "      <td>A witch, you say? Oh, right. I rescued her. We...</td>\n",
       "      <td>마녀라고 했소? 오, 그렇지. 그녀를 구출했소. 우린 헤어졌지.</td>\n",
       "    </tr>\n",
       "    <tr>\n",
       "      <th>31251</th>\n",
       "      <td>NaN</td>\n",
       "      <td>(She is gone! Rashemaar fools tramping about t...</td>\n",
       "      <td>(그녀가 가버렸군! 라셰멘 멍청이들이 렐름을 헤매다니, 테이의 눈을 피할 수 있으리...</td>\n",
       "    </tr>\n",
       "    <tr>\n",
       "      <th>31252</th>\n",
       "      <td>NaN</td>\n",
       "      <td>A Ring for a Lady\\nI have given Fergus a ring ...</td>\n",
       "      <td>숙녀를 위한 반지\\n페르거스에게 숙녀에게 사랑을 바칠 반지를 건내주었다. 행운이 따...</td>\n",
       "    </tr>\n",
       "    <tr>\n",
       "      <th>31253</th>\n",
       "      <td>NaN</td>\n",
       "      <td>Troubles in the Region: Rumors and Happenings\\...</td>\n",
       "      <td>지역 내 문제들\\n내쉬켈 광산의 깊숙한 곳을 파헤쳤으므로, 베런 개스트킬에게 돌아가...</td>\n",
       "    </tr>\n",
       "    <tr>\n",
       "      <th>31254</th>\n",
       "      <td>NaN</td>\n",
       "      <td>Marek's Poison</td>\n",
       "      <td>마렉의 독</td>\n",
       "    </tr>\n",
       "  </tbody>\n",
       "</table>\n",
       "<p>148434 rows × 3 columns</p>\n",
       "</div>"
      ],
      "text/plain": [
       "       num                                            english  \\\n",
       "0      0.0        No, I'm sorry, none of them sound familiar.   \n",
       "1      1.0                              You played Elminster?   \n",
       "2      2.0  Uh, the yugoloth, was it? Yeah, you stole the ...   \n",
       "3      3.0  And, who knows, we were rehearsing for Picocci...   \n",
       "4      4.0  Oh, my dark ravens, let us stop our squawking....   \n",
       "...    ...                                                ...   \n",
       "31250  NaN  A witch, you say? Oh, right. I rescued her. We...   \n",
       "31251  NaN  (She is gone! Rashemaar fools tramping about t...   \n",
       "31252  NaN  A Ring for a Lady\\nI have given Fergus a ring ...   \n",
       "31253  NaN  Troubles in the Region: Rumors and Happenings\\...   \n",
       "31254  NaN                                     Marek's Poison   \n",
       "\n",
       "                                                  korean  \n",
       "0                          아니오, 미안하지만, 그것들 가운데 아는 것은 없소.  \n",
       "1                                          엘민스터를 연기했습니까?  \n",
       "2      어, 유골로스, 맞습니까? 그래요, 내 기억이 맞다면 당신은 그것으로 쇼를 독차지했었소.  \n",
       "3      그리고, 누가 압니까, 우리는 피코키오의 \"에테르 속에서의 사흘간\"을 연습하고 있었...  \n",
       "4      오, 이제 불평은 그만둡시다. 만약 당신이 계속 나와 함께 할 생각이라면, 나는 이...  \n",
       "...                                                  ...  \n",
       "31250                마녀라고 했소? 오, 그렇지. 그녀를 구출했소. 우린 헤어졌지.  \n",
       "31251  (그녀가 가버렸군! 라셰멘 멍청이들이 렐름을 헤매다니, 테이의 눈을 피할 수 있으리...  \n",
       "31252  숙녀를 위한 반지\\n페르거스에게 숙녀에게 사랑을 바칠 반지를 건내주었다. 행운이 따...  \n",
       "31253  지역 내 문제들\\n내쉬켈 광산의 깊숙한 곳을 파헤쳤으므로, 베런 개스트킬에게 돌아가...  \n",
       "31254                                              마렉의 독  \n",
       "\n",
       "[148434 rows x 3 columns]"
      ]
     },
     "execution_count": 24,
     "metadata": {},
     "output_type": "execute_result"
    }
   ],
   "source": [
    "df_dialog"
   ]
  },
  {
   "cell_type": "code",
   "execution_count": 25,
   "metadata": {},
   "outputs": [],
   "source": [
    "df_dialog.reset_index(inplace=True)"
   ]
  },
  {
   "cell_type": "code",
   "execution_count": 26,
   "metadata": {},
   "outputs": [],
   "source": [
    "df_dialog.drop([\"num\"], axis=1, inplace=True)\n",
    "df_dialog.drop([\"index\"], axis=1, inplace=True)"
   ]
  },
  {
   "cell_type": "code",
   "execution_count": 27,
   "metadata": {},
   "outputs": [
    {
     "data": {
      "text/html": [
       "<div>\n",
       "<style scoped>\n",
       "    .dataframe tbody tr th:only-of-type {\n",
       "        vertical-align: middle;\n",
       "    }\n",
       "\n",
       "    .dataframe tbody tr th {\n",
       "        vertical-align: top;\n",
       "    }\n",
       "\n",
       "    .dataframe thead th {\n",
       "        text-align: right;\n",
       "    }\n",
       "</style>\n",
       "<table border=\"1\" class=\"dataframe\">\n",
       "  <thead>\n",
       "    <tr style=\"text-align: right;\">\n",
       "      <th></th>\n",
       "      <th>english</th>\n",
       "      <th>korean</th>\n",
       "    </tr>\n",
       "  </thead>\n",
       "  <tbody>\n",
       "    <tr>\n",
       "      <th>0</th>\n",
       "      <td>No, I'm sorry, none of them sound familiar.</td>\n",
       "      <td>아니오, 미안하지만, 그것들 가운데 아는 것은 없소.</td>\n",
       "    </tr>\n",
       "    <tr>\n",
       "      <th>1</th>\n",
       "      <td>You played Elminster?</td>\n",
       "      <td>엘민스터를 연기했습니까?</td>\n",
       "    </tr>\n",
       "    <tr>\n",
       "      <th>2</th>\n",
       "      <td>Uh, the yugoloth, was it? Yeah, you stole the ...</td>\n",
       "      <td>어, 유골로스, 맞습니까? 그래요, 내 기억이 맞다면 당신은 그것으로 쇼를 독차지했었소.</td>\n",
       "    </tr>\n",
       "    <tr>\n",
       "      <th>3</th>\n",
       "      <td>And, who knows, we were rehearsing for Picocci...</td>\n",
       "      <td>그리고, 누가 압니까, 우리는 피코키오의 \"에테르 속에서의 사흘간\"을 연습하고 있었...</td>\n",
       "    </tr>\n",
       "    <tr>\n",
       "      <th>4</th>\n",
       "      <td>Oh, my dark ravens, let us stop our squawking....</td>\n",
       "      <td>오, 이제 불평은 그만둡시다. 만약 당신이 계속 나와 함께 할 생각이라면, 나는 이...</td>\n",
       "    </tr>\n",
       "    <tr>\n",
       "      <th>...</th>\n",
       "      <td>...</td>\n",
       "      <td>...</td>\n",
       "    </tr>\n",
       "    <tr>\n",
       "      <th>148429</th>\n",
       "      <td>A witch, you say? Oh, right. I rescued her. We...</td>\n",
       "      <td>마녀라고 했소? 오, 그렇지. 그녀를 구출했소. 우린 헤어졌지.</td>\n",
       "    </tr>\n",
       "    <tr>\n",
       "      <th>148430</th>\n",
       "      <td>(She is gone! Rashemaar fools tramping about t...</td>\n",
       "      <td>(그녀가 가버렸군! 라셰멘 멍청이들이 렐름을 헤매다니, 테이의 눈을 피할 수 있으리...</td>\n",
       "    </tr>\n",
       "    <tr>\n",
       "      <th>148431</th>\n",
       "      <td>A Ring for a Lady\\nI have given Fergus a ring ...</td>\n",
       "      <td>숙녀를 위한 반지\\n페르거스에게 숙녀에게 사랑을 바칠 반지를 건내주었다. 행운이 따...</td>\n",
       "    </tr>\n",
       "    <tr>\n",
       "      <th>148432</th>\n",
       "      <td>Troubles in the Region: Rumors and Happenings\\...</td>\n",
       "      <td>지역 내 문제들\\n내쉬켈 광산의 깊숙한 곳을 파헤쳤으므로, 베런 개스트킬에게 돌아가...</td>\n",
       "    </tr>\n",
       "    <tr>\n",
       "      <th>148433</th>\n",
       "      <td>Marek's Poison</td>\n",
       "      <td>마렉의 독</td>\n",
       "    </tr>\n",
       "  </tbody>\n",
       "</table>\n",
       "<p>148434 rows × 2 columns</p>\n",
       "</div>"
      ],
      "text/plain": [
       "                                                  english  \\\n",
       "0             No, I'm sorry, none of them sound familiar.   \n",
       "1                                   You played Elminster?   \n",
       "2       Uh, the yugoloth, was it? Yeah, you stole the ...   \n",
       "3       And, who knows, we were rehearsing for Picocci...   \n",
       "4       Oh, my dark ravens, let us stop our squawking....   \n",
       "...                                                   ...   \n",
       "148429  A witch, you say? Oh, right. I rescued her. We...   \n",
       "148430  (She is gone! Rashemaar fools tramping about t...   \n",
       "148431  A Ring for a Lady\\nI have given Fergus a ring ...   \n",
       "148432  Troubles in the Region: Rumors and Happenings\\...   \n",
       "148433                                     Marek's Poison   \n",
       "\n",
       "                                                   korean  \n",
       "0                           아니오, 미안하지만, 그것들 가운데 아는 것은 없소.  \n",
       "1                                           엘민스터를 연기했습니까?  \n",
       "2       어, 유골로스, 맞습니까? 그래요, 내 기억이 맞다면 당신은 그것으로 쇼를 독차지했었소.  \n",
       "3       그리고, 누가 압니까, 우리는 피코키오의 \"에테르 속에서의 사흘간\"을 연습하고 있었...  \n",
       "4       오, 이제 불평은 그만둡시다. 만약 당신이 계속 나와 함께 할 생각이라면, 나는 이...  \n",
       "...                                                   ...  \n",
       "148429                마녀라고 했소? 오, 그렇지. 그녀를 구출했소. 우린 헤어졌지.  \n",
       "148430  (그녀가 가버렸군! 라셰멘 멍청이들이 렐름을 헤매다니, 테이의 눈을 피할 수 있으리...  \n",
       "148431  숙녀를 위한 반지\\n페르거스에게 숙녀에게 사랑을 바칠 반지를 건내주었다. 행운이 따...  \n",
       "148432  지역 내 문제들\\n내쉬켈 광산의 깊숙한 곳을 파헤쳤으므로, 베런 개스트킬에게 돌아가...  \n",
       "148433                                              마렉의 독  \n",
       "\n",
       "[148434 rows x 2 columns]"
      ]
     },
     "execution_count": 27,
     "metadata": {},
     "output_type": "execute_result"
    }
   ],
   "source": [
    "df_dialog"
   ]
  },
  {
   "cell_type": "code",
   "execution_count": 28,
   "metadata": {},
   "outputs": [],
   "source": [
    "df_dialog.reset_index(inplace=True)"
   ]
  },
  {
   "cell_type": "code",
   "execution_count": 29,
   "metadata": {},
   "outputs": [],
   "source": [
    "df_dialog.rename(columns={\"index\":\"num\"}, inplace=True)"
   ]
  },
  {
   "cell_type": "code",
   "execution_count": 32,
   "metadata": {},
   "outputs": [
    {
     "data": {
      "text/html": [
       "<div>\n",
       "<style scoped>\n",
       "    .dataframe tbody tr th:only-of-type {\n",
       "        vertical-align: middle;\n",
       "    }\n",
       "\n",
       "    .dataframe tbody tr th {\n",
       "        vertical-align: top;\n",
       "    }\n",
       "\n",
       "    .dataframe thead th {\n",
       "        text-align: right;\n",
       "    }\n",
       "</style>\n",
       "<table border=\"1\" class=\"dataframe\">\n",
       "  <thead>\n",
       "    <tr style=\"text-align: right;\">\n",
       "      <th></th>\n",
       "      <th>num</th>\n",
       "      <th>english</th>\n",
       "      <th>korean</th>\n",
       "    </tr>\n",
       "  </thead>\n",
       "  <tbody>\n",
       "    <tr>\n",
       "      <th>0</th>\n",
       "      <td>0</td>\n",
       "      <td>No, I'm sorry, none of them sound familiar.</td>\n",
       "      <td>아니오, 미안하지만, 그것들 가운데 아는 것은 없소.</td>\n",
       "    </tr>\n",
       "    <tr>\n",
       "      <th>1</th>\n",
       "      <td>1</td>\n",
       "      <td>You played Elminster?</td>\n",
       "      <td>엘민스터를 연기했습니까?</td>\n",
       "    </tr>\n",
       "    <tr>\n",
       "      <th>2</th>\n",
       "      <td>2</td>\n",
       "      <td>Uh, the yugoloth, was it? Yeah, you stole the ...</td>\n",
       "      <td>어, 유골로스, 맞습니까? 그래요, 내 기억이 맞다면 당신은 그것으로 쇼를 독차지했었소.</td>\n",
       "    </tr>\n",
       "    <tr>\n",
       "      <th>3</th>\n",
       "      <td>3</td>\n",
       "      <td>And, who knows, we were rehearsing for Picocci...</td>\n",
       "      <td>그리고, 누가 압니까, 우리는 피코키오의 \"에테르 속에서의 사흘간\"을 연습하고 있었...</td>\n",
       "    </tr>\n",
       "    <tr>\n",
       "      <th>4</th>\n",
       "      <td>4</td>\n",
       "      <td>Oh, my dark ravens, let us stop our squawking....</td>\n",
       "      <td>오, 이제 불평은 그만둡시다. 만약 당신이 계속 나와 함께 할 생각이라면, 나는 이...</td>\n",
       "    </tr>\n",
       "    <tr>\n",
       "      <th>...</th>\n",
       "      <td>...</td>\n",
       "      <td>...</td>\n",
       "      <td>...</td>\n",
       "    </tr>\n",
       "    <tr>\n",
       "      <th>148429</th>\n",
       "      <td>148429</td>\n",
       "      <td>A witch, you say? Oh, right. I rescued her. We...</td>\n",
       "      <td>마녀라고 했소? 오, 그렇지. 그녀를 구출했소. 우린 헤어졌지.</td>\n",
       "    </tr>\n",
       "    <tr>\n",
       "      <th>148430</th>\n",
       "      <td>148430</td>\n",
       "      <td>(She is gone! Rashemaar fools tramping about t...</td>\n",
       "      <td>(그녀가 가버렸군! 라셰멘 멍청이들이 렐름을 헤매다니, 테이의 눈을 피할 수 있으리...</td>\n",
       "    </tr>\n",
       "    <tr>\n",
       "      <th>148431</th>\n",
       "      <td>148431</td>\n",
       "      <td>A Ring for a Lady\\nI have given Fergus a ring ...</td>\n",
       "      <td>숙녀를 위한 반지\\n페르거스에게 숙녀에게 사랑을 바칠 반지를 건내주었다. 행운이 따...</td>\n",
       "    </tr>\n",
       "    <tr>\n",
       "      <th>148432</th>\n",
       "      <td>148432</td>\n",
       "      <td>Troubles in the Region: Rumors and Happenings\\...</td>\n",
       "      <td>지역 내 문제들\\n내쉬켈 광산의 깊숙한 곳을 파헤쳤으므로, 베런 개스트킬에게 돌아가...</td>\n",
       "    </tr>\n",
       "    <tr>\n",
       "      <th>148433</th>\n",
       "      <td>148433</td>\n",
       "      <td>Marek's Poison</td>\n",
       "      <td>마렉의 독</td>\n",
       "    </tr>\n",
       "  </tbody>\n",
       "</table>\n",
       "<p>148434 rows × 3 columns</p>\n",
       "</div>"
      ],
      "text/plain": [
       "           num                                            english  \\\n",
       "0            0        No, I'm sorry, none of them sound familiar.   \n",
       "1            1                              You played Elminster?   \n",
       "2            2  Uh, the yugoloth, was it? Yeah, you stole the ...   \n",
       "3            3  And, who knows, we were rehearsing for Picocci...   \n",
       "4            4  Oh, my dark ravens, let us stop our squawking....   \n",
       "...        ...                                                ...   \n",
       "148429  148429  A witch, you say? Oh, right. I rescued her. We...   \n",
       "148430  148430  (She is gone! Rashemaar fools tramping about t...   \n",
       "148431  148431  A Ring for a Lady\\nI have given Fergus a ring ...   \n",
       "148432  148432  Troubles in the Region: Rumors and Happenings\\...   \n",
       "148433  148433                                     Marek's Poison   \n",
       "\n",
       "                                                   korean  \n",
       "0                           아니오, 미안하지만, 그것들 가운데 아는 것은 없소.  \n",
       "1                                           엘민스터를 연기했습니까?  \n",
       "2       어, 유골로스, 맞습니까? 그래요, 내 기억이 맞다면 당신은 그것으로 쇼를 독차지했었소.  \n",
       "3       그리고, 누가 압니까, 우리는 피코키오의 \"에테르 속에서의 사흘간\"을 연습하고 있었...  \n",
       "4       오, 이제 불평은 그만둡시다. 만약 당신이 계속 나와 함께 할 생각이라면, 나는 이...  \n",
       "...                                                   ...  \n",
       "148429                마녀라고 했소? 오, 그렇지. 그녀를 구출했소. 우린 헤어졌지.  \n",
       "148430  (그녀가 가버렸군! 라셰멘 멍청이들이 렐름을 헤매다니, 테이의 눈을 피할 수 있으리...  \n",
       "148431  숙녀를 위한 반지\\n페르거스에게 숙녀에게 사랑을 바칠 반지를 건내주었다. 행운이 따...  \n",
       "148432  지역 내 문제들\\n내쉬켈 광산의 깊숙한 곳을 파헤쳤으므로, 베런 개스트킬에게 돌아가...  \n",
       "148433                                              마렉의 독  \n",
       "\n",
       "[148434 rows x 3 columns]"
      ]
     },
     "execution_count": 32,
     "metadata": {},
     "output_type": "execute_result"
    }
   ],
   "source": [
    "df_dialog"
   ]
  },
  {
   "cell_type": "markdown",
   "metadata": {},
   "source": [
    "### 3) Save CSV"
   ]
  },
  {
   "cell_type": "code",
   "execution_count": 31,
   "metadata": {},
   "outputs": [],
   "source": [
    "df_dialog.to_csv(r\"../train_data/dialog_BG2_POE2_BG1.csv\", index=False, encoding='utf-8')"
   ]
  },
  {
   "cell_type": "markdown",
   "metadata": {},
   "source": [
    "### 4) Dataset Build"
   ]
  },
  {
   "cell_type": "code",
   "execution_count": null,
   "metadata": {},
   "outputs": [],
   "source": [
    "# datasets_train = DatasetDict({\n",
    "#     \"train\": Dataset.from_pandas(df_dialog)\n",
    "# })"
   ]
  },
  {
   "cell_type": "code",
   "execution_count": null,
   "metadata": {},
   "outputs": [],
   "source": [
    "# datasets_train"
   ]
  },
  {
   "cell_type": "markdown",
   "metadata": {},
   "source": [
    "### 5) HuggingFace Upload"
   ]
  },
  {
   "cell_type": "code",
   "execution_count": null,
   "metadata": {},
   "outputs": [],
   "source": [
    "# from huggingface_hub import login\n",
    "\n",
    "# login(token= input(\"Token: \"))\n",
    "\n",
    "# datasets_train.push_to_hub(\"aeolian83/DnD_translate_v1.5\")"
   ]
  },
  {
   "cell_type": "code",
   "execution_count": null,
   "metadata": {},
   "outputs": [],
   "source": []
  }
 ],
 "metadata": {
  "kernelspec": {
   "display_name": "translateDnD",
   "language": "python",
   "name": "python3"
  },
  "language_info": {
   "codemirror_mode": {
    "name": "ipython",
    "version": 3
   },
   "file_extension": ".py",
   "mimetype": "text/x-python",
   "name": "python",
   "nbconvert_exporter": "python",
   "pygments_lexer": "ipython3",
   "version": "3.10.9"
  },
  "orig_nbformat": 4
 },
 "nbformat": 4,
 "nbformat_minor": 2
}
