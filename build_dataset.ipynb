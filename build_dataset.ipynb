{
 "cells": [
  {
   "cell_type": "markdown",
   "metadata": {},
   "source": [
    "# 1. Data Extract\n",
    "\n",
    "## (1) tlk parser"
   ]
  },
  {
   "cell_type": "code",
   "execution_count": 112,
   "metadata": {},
   "outputs": [],
   "source": [
    "# tlk parser from https://github.com/3zhang/TLK-v1-file-parser-for-Python\n",
    "\n",
    "# -*- coding: utf-8 -*-\n",
    "\n",
    "#Author 3Zhang\n",
    "\n",
    "import struct\n",
    "\n",
    "b2i=lambda bstr:struct.unpack('i',bstr)[0]\n",
    "b2h=lambda bstr:struct.unpack('h',bstr)[0]\n",
    "i2b=lambda i:struct.pack('i',i)\n",
    "h2b=lambda i:struct.pack('h',i)\n",
    "\n",
    "\n",
    "#This is the version information of the header. Do not edit.\n",
    "HEADER_C=b'\\x54\\x4c\\x4b\\x20\\x56\\x31\\x20\\x20\\x00\\x00'\n",
    "COLORRED=\"\\033[01;31m{0}\\033[00m\"\n",
    "\n",
    "\n",
    "#a class to store each entry\n",
    "class entry:\n",
    "    def __init__(self,ent,n,string=None):\n",
    "        self.No=n\n",
    "        self.entype=b2h(ent[:2])\n",
    "        self.soundinfo=ent[2:18]\n",
    "        self.offset=b2i(ent[18:22])\n",
    "        self.size=b2i(ent[22:])\n",
    "        self.string=string\n",
    "        \n",
    "    def __repr__(self):\n",
    "        return repr((self.No,self.entype,self.soundinfo,self.offset,self.size,self.string.decode('utf-8')))\n",
    "    \n",
    "    def __eq__(self, other):\n",
    "        return (self.No,self.entype,self.soundinfo,self.offset,self.size,self.string) \\\n",
    "            == (other.No,other.entype,other.soundinfo,other.offset,other.size,other.string)\n",
    "\n",
    "\n",
    "#read a tlk file. return a list of entries\n",
    "def readialog(filepath):\n",
    "    with open(filepath,'rb') as file:\n",
    "        dg=file.read()\n",
    "    header=dg[:18]\n",
    "    str_o=b2i(header[14:18])\n",
    "    strings=dg[str_o:]\n",
    "    entries=dg[18:str_o]\n",
    "    entry_l=[entries[i:i+26] for i in range(0,len(entries),26)]\n",
    "    entry_l2=[entry(ent,i) for i,ent in enumerate(entry_l)]\n",
    "    for i,ent in enumerate(entry_l2):\n",
    "        entry_l2[i].string=strings[ent.offset:ent.offset+ent.size]\n",
    "    return entry_l2\n",
    "        \n",
    "#Edit your dialog here. Note that string for each entry needs to be decode.\n",
    "#Also, after you edit the strings, you need to encode them to binary strings.\n",
    "\n",
    "\n",
    "#sort a list of entries and refresh its size and offset. You must do this after you finish editing the strings.\n",
    "def refreshdialog(entryl):\n",
    "    if sum([not isinstance(ent.string,bytes) for ent in entryl])>0:\n",
    "        raise TypeError('String must be encoded to bytes!')\n",
    "    entryl.sort(key=lambda x:x.No)\n",
    "    if [ent.No for ent in entryl]!=list(range(0,len(entryl))):\n",
    "        print(COLORRED.format('Warning: List index is not equal to stringref index!'))\n",
    "    offset=0\n",
    "    for i,ent in enumerate(entryl):\n",
    "        size=len(ent.string)\n",
    "        entryl[i].size=size    \n",
    "        entryl[i].offset=offset if size>0 else 0\n",
    "        offset+=size\n",
    "        \n",
    "\n",
    "#You must refresh the list of entries before you write them to file.\n",
    "def writedialog(entryl,filepath):\n",
    "    length=i2b(len(entryl))\n",
    "    entries=[]\n",
    "    for ent in entryl:\n",
    "        entype=h2b(ent.entype)\n",
    "        soundinfo=ent.soundinfo\n",
    "        offset=i2b(ent.offset)\n",
    "        size=i2b(ent.size)\n",
    "        entb=entype+soundinfo+offset+size\n",
    "        entries.append(entb)\n",
    "    entries=b''.join(entries)\n",
    "    soffset=i2b(18+len(entries))\n",
    "    header=HEADER_C+length+soffset\n",
    "    strings=[ent.string for ent in entryl]\n",
    "    strings=b''.join(strings)\n",
    "    dialog=header+entries+strings\n",
    "    with open(filepath,'wb') as file:\n",
    "        file.write(dialog)"
   ]
  },
  {
   "cell_type": "markdown",
   "metadata": {},
   "source": [
    "## (2) BG2 Dialog extract"
   ]
  },
  {
   "cell_type": "code",
   "execution_count": 113,
   "metadata": {},
   "outputs": [],
   "source": [
    "dial_en = readialog(\"./train_data/BG2/dialog_en.tlk\")\n",
    "dial_kr = readialog(\"./train_data/BG2/dialog_kr.tlk\")"
   ]
  },
  {
   "cell_type": "code",
   "execution_count": 114,
   "metadata": {},
   "outputs": [
    {
     "name": "stdout",
     "output_type": "stream",
     "text": [
      "103584\n"
     ]
    },
    {
     "data": {
      "text/plain": [
       "[(0, 5, b'\\x00\\x00\\x00\\x00\\x00\\x00\\x00\\x00\\x00\\x00\\x00\\x00\\x00\\x00\\x00\\x00', 0, 9, '<NO TEXT>'),\n",
       " (1, 1, b'\\x00\\x00\\x00\\x00\\x00\\x00\\x00\\x00\\x00\\x00\\x00\\x00\\x00\\x00\\x00\\x00', 9, 69, '아니오, 미안하지만, 그것들 가운데 아는 것은 없소.'),\n",
       " (2, 1, b'\\x00\\x00\\x00\\x00\\x00\\x00\\x00\\x00\\x00\\x00\\x00\\x00\\x00\\x00\\x00\\x00', 78, 35, '엘민스터를 연기했습니까?'),\n",
       " (3, 1, b'\\x00\\x00\\x00\\x00\\x00\\x00\\x00\\x00\\x00\\x00\\x00\\x00\\x00\\x00\\x00\\x00', 113, 117, '어, 유골로스, 맞습니까? 그래요, 내 기억이 맞다면 당신은 그것으로 쇼를 독차지했었소.'),\n",
       " (4, 1, b'\\x00\\x00\\x00\\x00\\x00\\x00\\x00\\x00\\x00\\x00\\x00\\x00\\x00\\x00\\x00\\x00', 230, 201, '그리고, 누가 압니까, 우리는 피코키오의 \"에테르 속에서의 사흘간\"을 연습하고 있었습니다. 아마도 우리는 당신들에게 한 편 보여줄 수도 있을 겁니다.')]"
      ]
     },
     "execution_count": 114,
     "metadata": {},
     "output_type": "execute_result"
    }
   ],
   "source": [
    "print(len(dial_kr))\n",
    "\n",
    "dial_kr[:5]"
   ]
  },
  {
   "cell_type": "code",
   "execution_count": 115,
   "metadata": {},
   "outputs": [
    {
     "name": "stdout",
     "output_type": "stream",
     "text": [
      "103584\n"
     ]
    },
    {
     "data": {
      "text/plain": [
       "[(0, 5, b'\\x00\\x00\\x00\\x00\\x00\\x00\\x00\\x00\\x00\\x00\\x00\\x00\\x00\\x00\\x00\\x00', 0, 9, '<NO TEXT>'),\n",
       " (1, 1, b'\\x00\\x00\\x00\\x00\\x00\\x00\\x00\\x00\\x00\\x00\\x00\\x00\\x00\\x00\\x00\\x00', 9, 43, \"No, I'm sorry, none of them sound familiar.\"),\n",
       " (2, 1, b'\\x00\\x00\\x00\\x00\\x00\\x00\\x00\\x00\\x00\\x00\\x00\\x00\\x00\\x00\\x00\\x00', 52, 21, 'You played Elminster?'),\n",
       " (3, 1, b'\\x00\\x00\\x00\\x00\\x00\\x00\\x00\\x00\\x00\\x00\\x00\\x00\\x00\\x00\\x00\\x00', 73, 78, 'Uh, the yugoloth, was it? Yeah, you stole the show with that one, if I recall.'),\n",
       " (4, 1, b'\\x00\\x00\\x00\\x00\\x00\\x00\\x00\\x00\\x00\\x00\\x00\\x00\\x00\\x00\\x00\\x00', 151, 117, 'And, who knows, we were rehearsing for Picoccio\\'s \"Three Days in the Ether.\" Perhaps we can give you a dress matinee.')]"
      ]
     },
     "execution_count": 115,
     "metadata": {},
     "output_type": "execute_result"
    }
   ],
   "source": [
    "print(len(dial_kr))\n",
    "\n",
    "dial_en[:5]"
   ]
  },
  {
   "cell_type": "code",
   "execution_count": 116,
   "metadata": {},
   "outputs": [
    {
     "data": {
      "text/plain": [
       "b'Oh, my dark ravens, let us stop our squawking. I shall remove this foul demeanor like a mask because, if you will still have me, I think I would quite enjoy the company of your troupe. '"
      ]
     },
     "execution_count": 116,
     "metadata": {},
     "output_type": "execute_result"
    }
   ],
   "source": [
    "dial_en[5].string"
   ]
  },
  {
   "cell_type": "code",
   "execution_count": 117,
   "metadata": {},
   "outputs": [
    {
     "name": "stdout",
     "output_type": "stream",
     "text": [
      "Outbursts like that won't get you any tips. I'll have to write Cousin Jowen and ask him to send you some pointers.\n",
      "그런 식으로 분통을 터뜨리면 팁을 전혀 받지 못하지. 내 사촌 조웬에게 편지를 써서 지침을 좀 보내달라고 해야겠군.\n"
     ]
    }
   ],
   "source": [
    "print(dial_en[40238].string.decode('utf-8'))\n",
    "print(dial_kr[40238].string.decode('utf-8'))"
   ]
  },
  {
   "cell_type": "markdown",
   "metadata": {},
   "source": [
    "## (3) Make DataFrame"
   ]
  },
  {
   "cell_type": "code",
   "execution_count": 118,
   "metadata": {},
   "outputs": [],
   "source": [
    "import pandas as pd\n",
    "import numpy as np"
   ]
  },
  {
   "cell_type": "code",
   "execution_count": 119,
   "metadata": {},
   "outputs": [],
   "source": [
    "english_list = []\n",
    "korean_list = []\n",
    "df_dialog = pd.DataFrame(columns = [\"english\", \"korean\"])\n"
   ]
  },
  {
   "cell_type": "code",
   "execution_count": 120,
   "metadata": {},
   "outputs": [],
   "source": [
    "for i in range(len(dial_en)):\n",
    "    english_list.append(dial_en[i].string.decode('utf-8'))\n",
    "    korean_list.append(dial_kr[i].string.decode('utf-8'))\n",
    "\n",
    "df_dialog[\"english\"] = english_list\n",
    "df_dialog[\"korean\"] = korean_list"
   ]
  },
  {
   "cell_type": "code",
   "execution_count": 121,
   "metadata": {},
   "outputs": [
    {
     "data": {
      "text/html": [
       "<div>\n",
       "<style scoped>\n",
       "    .dataframe tbody tr th:only-of-type {\n",
       "        vertical-align: middle;\n",
       "    }\n",
       "\n",
       "    .dataframe tbody tr th {\n",
       "        vertical-align: top;\n",
       "    }\n",
       "\n",
       "    .dataframe thead th {\n",
       "        text-align: right;\n",
       "    }\n",
       "</style>\n",
       "<table border=\"1\" class=\"dataframe\">\n",
       "  <thead>\n",
       "    <tr style=\"text-align: right;\">\n",
       "      <th></th>\n",
       "      <th>english</th>\n",
       "      <th>korean</th>\n",
       "    </tr>\n",
       "  </thead>\n",
       "  <tbody>\n",
       "    <tr>\n",
       "      <th>0</th>\n",
       "      <td>&lt;NO TEXT&gt;</td>\n",
       "      <td>&lt;NO TEXT&gt;</td>\n",
       "    </tr>\n",
       "    <tr>\n",
       "      <th>1</th>\n",
       "      <td>No, I'm sorry, none of them sound familiar.</td>\n",
       "      <td>아니오, 미안하지만, 그것들 가운데 아는 것은 없소.</td>\n",
       "    </tr>\n",
       "    <tr>\n",
       "      <th>2</th>\n",
       "      <td>You played Elminster?</td>\n",
       "      <td>엘민스터를 연기했습니까?</td>\n",
       "    </tr>\n",
       "    <tr>\n",
       "      <th>3</th>\n",
       "      <td>Uh, the yugoloth, was it? Yeah, you stole the ...</td>\n",
       "      <td>어, 유골로스, 맞습니까? 그래요, 내 기억이 맞다면 당신은 그것으로 쇼를 독차지했었소.</td>\n",
       "    </tr>\n",
       "    <tr>\n",
       "      <th>4</th>\n",
       "      <td>And, who knows, we were rehearsing for Picocci...</td>\n",
       "      <td>그리고, 누가 압니까, 우리는 피코키오의 \"에테르 속에서의 사흘간\"을 연습하고 있었...</td>\n",
       "    </tr>\n",
       "    <tr>\n",
       "      <th>...</th>\n",
       "      <td>...</td>\n",
       "      <td>...</td>\n",
       "    </tr>\n",
       "    <tr>\n",
       "      <th>103579</th>\n",
       "      <td>You remind me of that mouthy gnome.</td>\n",
       "      <td>너를 보니 그 짜증 나는 노움이 떠오르는군.</td>\n",
       "    </tr>\n",
       "    <tr>\n",
       "      <th>103580</th>\n",
       "      <td>~ BGII:EE French Translation ~\\nMoGi\\nhttps://...</td>\n",
       "      <td>~ BGII:EE French Translation ~\\nMoGi\\nhttps://...</td>\n",
       "    </tr>\n",
       "    <tr>\n",
       "      <th>103581</th>\n",
       "      <td>~ BGII:EE Volunteer Team Leader ~\\nDenis \"Isay...</td>\n",
       "      <td>~ BGII:EE Volunteer Team Leader ~\\nDenis \"Isay...</td>\n",
       "    </tr>\n",
       "    <tr>\n",
       "      <th>103582</th>\n",
       "      <td>~ BGII:EE Korean Translation ~\\nHosub \"Teflon\"\\n</td>\n",
       "      <td>~ BGII:EE Korean Translation ~\\nHosub \"Teflon\"</td>\n",
       "    </tr>\n",
       "    <tr>\n",
       "      <th>103583</th>\n",
       "      <td>This is a Work In Progress. Want to help? Come...</td>\n",
       "      <td>This is a Work In Progress. Want to help? Come...</td>\n",
       "    </tr>\n",
       "  </tbody>\n",
       "</table>\n",
       "<p>103584 rows × 2 columns</p>\n",
       "</div>"
      ],
      "text/plain": [
       "                                                  english  \\\n",
       "0                                               <NO TEXT>   \n",
       "1             No, I'm sorry, none of them sound familiar.   \n",
       "2                                   You played Elminster?   \n",
       "3       Uh, the yugoloth, was it? Yeah, you stole the ...   \n",
       "4       And, who knows, we were rehearsing for Picocci...   \n",
       "...                                                   ...   \n",
       "103579                You remind me of that mouthy gnome.   \n",
       "103580  ~ BGII:EE French Translation ~\\nMoGi\\nhttps://...   \n",
       "103581  ~ BGII:EE Volunteer Team Leader ~\\nDenis \"Isay...   \n",
       "103582   ~ BGII:EE Korean Translation ~\\nHosub \"Teflon\"\\n   \n",
       "103583  This is a Work In Progress. Want to help? Come...   \n",
       "\n",
       "                                                   korean  \n",
       "0                                               <NO TEXT>  \n",
       "1                           아니오, 미안하지만, 그것들 가운데 아는 것은 없소.  \n",
       "2                                           엘민스터를 연기했습니까?  \n",
       "3       어, 유골로스, 맞습니까? 그래요, 내 기억이 맞다면 당신은 그것으로 쇼를 독차지했었소.  \n",
       "4       그리고, 누가 압니까, 우리는 피코키오의 \"에테르 속에서의 사흘간\"을 연습하고 있었...  \n",
       "...                                                   ...  \n",
       "103579                           너를 보니 그 짜증 나는 노움이 떠오르는군.  \n",
       "103580  ~ BGII:EE French Translation ~\\nMoGi\\nhttps://...  \n",
       "103581  ~ BGII:EE Volunteer Team Leader ~\\nDenis \"Isay...  \n",
       "103582     ~ BGII:EE Korean Translation ~\\nHosub \"Teflon\"  \n",
       "103583  This is a Work In Progress. Want to help? Come...  \n",
       "\n",
       "[103584 rows x 2 columns]"
      ]
     },
     "execution_count": 121,
     "metadata": {},
     "output_type": "execute_result"
    }
   ],
   "source": [
    "df_dialog"
   ]
  },
  {
   "cell_type": "markdown",
   "metadata": {},
   "source": [
    "## (4) 필요없는 데이터 및 결측치 삭제"
   ]
  },
  {
   "cell_type": "code",
   "execution_count": 122,
   "metadata": {},
   "outputs": [
    {
     "name": "stdout",
     "output_type": "stream",
     "text": [
      "60\n",
      "59\n"
     ]
    }
   ],
   "source": [
    "print(len(df_dialog['english'].iloc[103580]))\n",
    "print(len(df_dialog['korean'].iloc[103580]))"
   ]
  },
  {
   "cell_type": "code",
   "execution_count": 123,
   "metadata": {},
   "outputs": [],
   "source": [
    "df_dialog.drop(df_dialog.index[103580:103584], axis=0, inplace=True)\n",
    "df_dialog.drop(df_dialog.index[0], axis=0, inplace=True)"
   ]
  },
  {
   "cell_type": "code",
   "execution_count": 124,
   "metadata": {},
   "outputs": [
    {
     "data": {
      "text/plain": [
       "english    0\n",
       "korean     0\n",
       "dtype: int64"
      ]
     },
     "execution_count": 124,
     "metadata": {},
     "output_type": "execute_result"
    }
   ],
   "source": [
    "df_dialog.isnull().sum()"
   ]
  },
  {
   "cell_type": "code",
   "execution_count": 125,
   "metadata": {},
   "outputs": [
    {
     "data": {
      "text/html": [
       "<div>\n",
       "<style scoped>\n",
       "    .dataframe tbody tr th:only-of-type {\n",
       "        vertical-align: middle;\n",
       "    }\n",
       "\n",
       "    .dataframe tbody tr th {\n",
       "        vertical-align: top;\n",
       "    }\n",
       "\n",
       "    .dataframe thead th {\n",
       "        text-align: right;\n",
       "    }\n",
       "</style>\n",
       "<table border=\"1\" class=\"dataframe\">\n",
       "  <thead>\n",
       "    <tr style=\"text-align: right;\">\n",
       "      <th></th>\n",
       "      <th>english</th>\n",
       "      <th>korean</th>\n",
       "    </tr>\n",
       "  </thead>\n",
       "  <tbody>\n",
       "    <tr>\n",
       "      <th>1</th>\n",
       "      <td>No, I'm sorry, none of them sound familiar.</td>\n",
       "      <td>아니오, 미안하지만, 그것들 가운데 아는 것은 없소.</td>\n",
       "    </tr>\n",
       "    <tr>\n",
       "      <th>2</th>\n",
       "      <td>You played Elminster?</td>\n",
       "      <td>엘민스터를 연기했습니까?</td>\n",
       "    </tr>\n",
       "    <tr>\n",
       "      <th>3</th>\n",
       "      <td>Uh, the yugoloth, was it? Yeah, you stole the ...</td>\n",
       "      <td>어, 유골로스, 맞습니까? 그래요, 내 기억이 맞다면 당신은 그것으로 쇼를 독차지했었소.</td>\n",
       "    </tr>\n",
       "    <tr>\n",
       "      <th>4</th>\n",
       "      <td>And, who knows, we were rehearsing for Picocci...</td>\n",
       "      <td>그리고, 누가 압니까, 우리는 피코키오의 \"에테르 속에서의 사흘간\"을 연습하고 있었...</td>\n",
       "    </tr>\n",
       "    <tr>\n",
       "      <th>5</th>\n",
       "      <td>Oh, my dark ravens, let us stop our squawking....</td>\n",
       "      <td>오, 이제 불평은 그만둡시다. 만약 당신이 계속 나와 함께 할 생각이라면, 나는 이...</td>\n",
       "    </tr>\n",
       "    <tr>\n",
       "      <th>...</th>\n",
       "      <td>...</td>\n",
       "      <td>...</td>\n",
       "    </tr>\n",
       "    <tr>\n",
       "      <th>103575</th>\n",
       "      <td>I accept this honor.</td>\n",
       "      <td>이 명예를 받아들이겠어.</td>\n",
       "    </tr>\n",
       "    <tr>\n",
       "      <th>103576</th>\n",
       "      <td>This place does not belong to civilized folk. ...</td>\n",
       "      <td>이 장소는 문명인들의 땅이 아니군. 조심히 걷도록 해.</td>\n",
       "    </tr>\n",
       "    <tr>\n",
       "      <th>103577</th>\n",
       "      <td>Cities. They reek of corruption and filth.</td>\n",
       "      <td>도시. 부패와 오물의 악취가 진동하는 장소지.</td>\n",
       "    </tr>\n",
       "    <tr>\n",
       "      <th>103578</th>\n",
       "      <td>Careful. This weapon is murder-sharp.</td>\n",
       "      <td></td>\n",
       "    </tr>\n",
       "    <tr>\n",
       "      <th>103579</th>\n",
       "      <td>You remind me of that mouthy gnome.</td>\n",
       "      <td>너를 보니 그 짜증 나는 노움이 떠오르는군.</td>\n",
       "    </tr>\n",
       "  </tbody>\n",
       "</table>\n",
       "<p>103579 rows × 2 columns</p>\n",
       "</div>"
      ],
      "text/plain": [
       "                                                  english  \\\n",
       "1             No, I'm sorry, none of them sound familiar.   \n",
       "2                                   You played Elminster?   \n",
       "3       Uh, the yugoloth, was it? Yeah, you stole the ...   \n",
       "4       And, who knows, we were rehearsing for Picocci...   \n",
       "5       Oh, my dark ravens, let us stop our squawking....   \n",
       "...                                                   ...   \n",
       "103575                               I accept this honor.   \n",
       "103576  This place does not belong to civilized folk. ...   \n",
       "103577         Cities. They reek of corruption and filth.   \n",
       "103578              Careful. This weapon is murder-sharp.   \n",
       "103579                You remind me of that mouthy gnome.   \n",
       "\n",
       "                                                   korean  \n",
       "1                           아니오, 미안하지만, 그것들 가운데 아는 것은 없소.  \n",
       "2                                           엘민스터를 연기했습니까?  \n",
       "3       어, 유골로스, 맞습니까? 그래요, 내 기억이 맞다면 당신은 그것으로 쇼를 독차지했었소.  \n",
       "4       그리고, 누가 압니까, 우리는 피코키오의 \"에테르 속에서의 사흘간\"을 연습하고 있었...  \n",
       "5       오, 이제 불평은 그만둡시다. 만약 당신이 계속 나와 함께 할 생각이라면, 나는 이...  \n",
       "...                                                   ...  \n",
       "103575                                      이 명예를 받아들이겠어.  \n",
       "103576                     이 장소는 문명인들의 땅이 아니군. 조심히 걷도록 해.  \n",
       "103577                          도시. 부패와 오물의 악취가 진동하는 장소지.  \n",
       "103578                                                     \n",
       "103579                           너를 보니 그 짜증 나는 노움이 떠오르는군.  \n",
       "\n",
       "[103579 rows x 2 columns]"
      ]
     },
     "execution_count": 125,
     "metadata": {},
     "output_type": "execute_result"
    }
   ],
   "source": [
    "df_dialog"
   ]
  },
  {
   "cell_type": "code",
   "execution_count": 129,
   "metadata": {},
   "outputs": [
    {
     "name": "stdout",
     "output_type": "stream",
     "text": [
      "Careful. This weapon is murder-sharp.\n",
      "0\n"
     ]
    }
   ],
   "source": [
    "print(df_dialog['english'].loc[103578])\n",
    "print(len(df_dialog['korean'].loc[103578]))"
   ]
  },
  {
   "cell_type": "code",
   "execution_count": 130,
   "metadata": {},
   "outputs": [
    {
     "name": "stdout",
     "output_type": "stream",
     "text": [
      "Careful. This weapon is murder-sharp.\n",
      "\n"
     ]
    }
   ],
   "source": [
    "print(df_dialog['english'].loc[103578])\n",
    "print(df_dialog['korean'].loc[103578])"
   ]
  },
  {
   "cell_type": "code",
   "execution_count": 131,
   "metadata": {},
   "outputs": [
    {
     "name": "stdout",
     "output_type": "stream",
     "text": [
      "Index([    30,     47,     60,     82,    193,    213,    268,    369,    378,\n",
      "          388,\n",
      "       ...\n",
      "       103560, 103562, 103563, 103564, 103566, 103567, 103568, 103572, 103573,\n",
      "       103578],\n",
      "      dtype='int64', length=6794)\n"
     ]
    }
   ],
   "source": [
    "short_string_indexes = df_dialog.index[df_dialog.applymap(lambda x: len(x) <= 2).any(axis=1)]\n",
    "\n",
    "print(short_string_indexes)"
   ]
  },
  {
   "cell_type": "code",
   "execution_count": 132,
   "metadata": {},
   "outputs": [],
   "source": [
    "df_dialog.drop(short_string_indexes, axis=0, inplace=True)"
   ]
  },
  {
   "cell_type": "code",
   "execution_count": 133,
   "metadata": {},
   "outputs": [
    {
     "data": {
      "text/html": [
       "<div>\n",
       "<style scoped>\n",
       "    .dataframe tbody tr th:only-of-type {\n",
       "        vertical-align: middle;\n",
       "    }\n",
       "\n",
       "    .dataframe tbody tr th {\n",
       "        vertical-align: top;\n",
       "    }\n",
       "\n",
       "    .dataframe thead th {\n",
       "        text-align: right;\n",
       "    }\n",
       "</style>\n",
       "<table border=\"1\" class=\"dataframe\">\n",
       "  <thead>\n",
       "    <tr style=\"text-align: right;\">\n",
       "      <th></th>\n",
       "      <th>english</th>\n",
       "      <th>korean</th>\n",
       "    </tr>\n",
       "  </thead>\n",
       "  <tbody>\n",
       "    <tr>\n",
       "      <th>1</th>\n",
       "      <td>No, I'm sorry, none of them sound familiar.</td>\n",
       "      <td>아니오, 미안하지만, 그것들 가운데 아는 것은 없소.</td>\n",
       "    </tr>\n",
       "    <tr>\n",
       "      <th>2</th>\n",
       "      <td>You played Elminster?</td>\n",
       "      <td>엘민스터를 연기했습니까?</td>\n",
       "    </tr>\n",
       "    <tr>\n",
       "      <th>3</th>\n",
       "      <td>Uh, the yugoloth, was it? Yeah, you stole the ...</td>\n",
       "      <td>어, 유골로스, 맞습니까? 그래요, 내 기억이 맞다면 당신은 그것으로 쇼를 독차지했었소.</td>\n",
       "    </tr>\n",
       "    <tr>\n",
       "      <th>4</th>\n",
       "      <td>And, who knows, we were rehearsing for Picocci...</td>\n",
       "      <td>그리고, 누가 압니까, 우리는 피코키오의 \"에테르 속에서의 사흘간\"을 연습하고 있었...</td>\n",
       "    </tr>\n",
       "    <tr>\n",
       "      <th>5</th>\n",
       "      <td>Oh, my dark ravens, let us stop our squawking....</td>\n",
       "      <td>오, 이제 불평은 그만둡시다. 만약 당신이 계속 나와 함께 할 생각이라면, 나는 이...</td>\n",
       "    </tr>\n",
       "    <tr>\n",
       "      <th>...</th>\n",
       "      <td>...</td>\n",
       "      <td>...</td>\n",
       "    </tr>\n",
       "    <tr>\n",
       "      <th>103574</th>\n",
       "      <td>Crush them!</td>\n",
       "      <td>뭉개버리자!</td>\n",
       "    </tr>\n",
       "    <tr>\n",
       "      <th>103575</th>\n",
       "      <td>I accept this honor.</td>\n",
       "      <td>이 명예를 받아들이겠어.</td>\n",
       "    </tr>\n",
       "    <tr>\n",
       "      <th>103576</th>\n",
       "      <td>This place does not belong to civilized folk. ...</td>\n",
       "      <td>이 장소는 문명인들의 땅이 아니군. 조심히 걷도록 해.</td>\n",
       "    </tr>\n",
       "    <tr>\n",
       "      <th>103577</th>\n",
       "      <td>Cities. They reek of corruption and filth.</td>\n",
       "      <td>도시. 부패와 오물의 악취가 진동하는 장소지.</td>\n",
       "    </tr>\n",
       "    <tr>\n",
       "      <th>103579</th>\n",
       "      <td>You remind me of that mouthy gnome.</td>\n",
       "      <td>너를 보니 그 짜증 나는 노움이 떠오르는군.</td>\n",
       "    </tr>\n",
       "  </tbody>\n",
       "</table>\n",
       "<p>96785 rows × 2 columns</p>\n",
       "</div>"
      ],
      "text/plain": [
       "                                                  english  \\\n",
       "1             No, I'm sorry, none of them sound familiar.   \n",
       "2                                   You played Elminster?   \n",
       "3       Uh, the yugoloth, was it? Yeah, you stole the ...   \n",
       "4       And, who knows, we were rehearsing for Picocci...   \n",
       "5       Oh, my dark ravens, let us stop our squawking....   \n",
       "...                                                   ...   \n",
       "103574                                        Crush them!   \n",
       "103575                               I accept this honor.   \n",
       "103576  This place does not belong to civilized folk. ...   \n",
       "103577         Cities. They reek of corruption and filth.   \n",
       "103579                You remind me of that mouthy gnome.   \n",
       "\n",
       "                                                   korean  \n",
       "1                           아니오, 미안하지만, 그것들 가운데 아는 것은 없소.  \n",
       "2                                           엘민스터를 연기했습니까?  \n",
       "3       어, 유골로스, 맞습니까? 그래요, 내 기억이 맞다면 당신은 그것으로 쇼를 독차지했었소.  \n",
       "4       그리고, 누가 압니까, 우리는 피코키오의 \"에테르 속에서의 사흘간\"을 연습하고 있었...  \n",
       "5       오, 이제 불평은 그만둡시다. 만약 당신이 계속 나와 함께 할 생각이라면, 나는 이...  \n",
       "...                                                   ...  \n",
       "103574                                             뭉개버리자!  \n",
       "103575                                      이 명예를 받아들이겠어.  \n",
       "103576                     이 장소는 문명인들의 땅이 아니군. 조심히 걷도록 해.  \n",
       "103577                          도시. 부패와 오물의 악취가 진동하는 장소지.  \n",
       "103579                           너를 보니 그 짜증 나는 노움이 떠오르는군.  \n",
       "\n",
       "[96785 rows x 2 columns]"
      ]
     },
     "execution_count": 133,
     "metadata": {},
     "output_type": "execute_result"
    }
   ],
   "source": [
    "df_dialog"
   ]
  },
  {
   "cell_type": "code",
   "execution_count": 134,
   "metadata": {},
   "outputs": [
    {
     "name": "stdout",
     "output_type": "stream",
     "text": [
      "Forget it, then. Begone from here and take your bravado with you.\n"
     ]
    }
   ],
   "source": [
    "print(df_dialog['english'].iloc[31])"
   ]
  },
  {
   "cell_type": "code",
   "execution_count": 135,
   "metadata": {},
   "outputs": [
    {
     "name": "stdout",
     "output_type": "stream",
     "text": [
      "29\n"
     ]
    }
   ],
   "source": [
    "print(len(df_dialog.korean[31]))"
   ]
  },
  {
   "cell_type": "code",
   "execution_count": 136,
   "metadata": {},
   "outputs": [],
   "source": [
    "df_dialog.reset_index(drop=True, inplace=True)"
   ]
  },
  {
   "cell_type": "code",
   "execution_count": 137,
   "metadata": {},
   "outputs": [
    {
     "data": {
      "text/html": [
       "<div>\n",
       "<style scoped>\n",
       "    .dataframe tbody tr th:only-of-type {\n",
       "        vertical-align: middle;\n",
       "    }\n",
       "\n",
       "    .dataframe tbody tr th {\n",
       "        vertical-align: top;\n",
       "    }\n",
       "\n",
       "    .dataframe thead th {\n",
       "        text-align: right;\n",
       "    }\n",
       "</style>\n",
       "<table border=\"1\" class=\"dataframe\">\n",
       "  <thead>\n",
       "    <tr style=\"text-align: right;\">\n",
       "      <th></th>\n",
       "      <th>english</th>\n",
       "      <th>korean</th>\n",
       "    </tr>\n",
       "  </thead>\n",
       "  <tbody>\n",
       "    <tr>\n",
       "      <th>0</th>\n",
       "      <td>No, I'm sorry, none of them sound familiar.</td>\n",
       "      <td>아니오, 미안하지만, 그것들 가운데 아는 것은 없소.</td>\n",
       "    </tr>\n",
       "    <tr>\n",
       "      <th>1</th>\n",
       "      <td>You played Elminster?</td>\n",
       "      <td>엘민스터를 연기했습니까?</td>\n",
       "    </tr>\n",
       "    <tr>\n",
       "      <th>2</th>\n",
       "      <td>Uh, the yugoloth, was it? Yeah, you stole the ...</td>\n",
       "      <td>어, 유골로스, 맞습니까? 그래요, 내 기억이 맞다면 당신은 그것으로 쇼를 독차지했었소.</td>\n",
       "    </tr>\n",
       "    <tr>\n",
       "      <th>3</th>\n",
       "      <td>And, who knows, we were rehearsing for Picocci...</td>\n",
       "      <td>그리고, 누가 압니까, 우리는 피코키오의 \"에테르 속에서의 사흘간\"을 연습하고 있었...</td>\n",
       "    </tr>\n",
       "    <tr>\n",
       "      <th>4</th>\n",
       "      <td>Oh, my dark ravens, let us stop our squawking....</td>\n",
       "      <td>오, 이제 불평은 그만둡시다. 만약 당신이 계속 나와 함께 할 생각이라면, 나는 이...</td>\n",
       "    </tr>\n",
       "    <tr>\n",
       "      <th>...</th>\n",
       "      <td>...</td>\n",
       "      <td>...</td>\n",
       "    </tr>\n",
       "    <tr>\n",
       "      <th>96780</th>\n",
       "      <td>Crush them!</td>\n",
       "      <td>뭉개버리자!</td>\n",
       "    </tr>\n",
       "    <tr>\n",
       "      <th>96781</th>\n",
       "      <td>I accept this honor.</td>\n",
       "      <td>이 명예를 받아들이겠어.</td>\n",
       "    </tr>\n",
       "    <tr>\n",
       "      <th>96782</th>\n",
       "      <td>This place does not belong to civilized folk. ...</td>\n",
       "      <td>이 장소는 문명인들의 땅이 아니군. 조심히 걷도록 해.</td>\n",
       "    </tr>\n",
       "    <tr>\n",
       "      <th>96783</th>\n",
       "      <td>Cities. They reek of corruption and filth.</td>\n",
       "      <td>도시. 부패와 오물의 악취가 진동하는 장소지.</td>\n",
       "    </tr>\n",
       "    <tr>\n",
       "      <th>96784</th>\n",
       "      <td>You remind me of that mouthy gnome.</td>\n",
       "      <td>너를 보니 그 짜증 나는 노움이 떠오르는군.</td>\n",
       "    </tr>\n",
       "  </tbody>\n",
       "</table>\n",
       "<p>96785 rows × 2 columns</p>\n",
       "</div>"
      ],
      "text/plain": [
       "                                                 english  \\\n",
       "0            No, I'm sorry, none of them sound familiar.   \n",
       "1                                  You played Elminster?   \n",
       "2      Uh, the yugoloth, was it? Yeah, you stole the ...   \n",
       "3      And, who knows, we were rehearsing for Picocci...   \n",
       "4      Oh, my dark ravens, let us stop our squawking....   \n",
       "...                                                  ...   \n",
       "96780                                        Crush them!   \n",
       "96781                               I accept this honor.   \n",
       "96782  This place does not belong to civilized folk. ...   \n",
       "96783         Cities. They reek of corruption and filth.   \n",
       "96784                You remind me of that mouthy gnome.   \n",
       "\n",
       "                                                  korean  \n",
       "0                          아니오, 미안하지만, 그것들 가운데 아는 것은 없소.  \n",
       "1                                          엘민스터를 연기했습니까?  \n",
       "2      어, 유골로스, 맞습니까? 그래요, 내 기억이 맞다면 당신은 그것으로 쇼를 독차지했었소.  \n",
       "3      그리고, 누가 압니까, 우리는 피코키오의 \"에테르 속에서의 사흘간\"을 연습하고 있었...  \n",
       "4      오, 이제 불평은 그만둡시다. 만약 당신이 계속 나와 함께 할 생각이라면, 나는 이...  \n",
       "...                                                  ...  \n",
       "96780                                             뭉개버리자!  \n",
       "96781                                      이 명예를 받아들이겠어.  \n",
       "96782                     이 장소는 문명인들의 땅이 아니군. 조심히 걷도록 해.  \n",
       "96783                          도시. 부패와 오물의 악취가 진동하는 장소지.  \n",
       "96784                           너를 보니 그 짜증 나는 노움이 떠오르는군.  \n",
       "\n",
       "[96785 rows x 2 columns]"
      ]
     },
     "execution_count": 137,
     "metadata": {},
     "output_type": "execute_result"
    }
   ],
   "source": [
    "df_dialog"
   ]
  },
  {
   "cell_type": "code",
   "execution_count": 138,
   "metadata": {},
   "outputs": [],
   "source": [
    "df_dialog.to_csv(\"./train_data/BG2/dialog.csv\")"
   ]
  },
  {
   "cell_type": "code",
   "execution_count": null,
   "metadata": {},
   "outputs": [],
   "source": []
  },
  {
   "cell_type": "code",
   "execution_count": null,
   "metadata": {},
   "outputs": [],
   "source": []
  }
 ],
 "metadata": {
  "kernelspec": {
   "display_name": "translateDnD",
   "language": "python",
   "name": "python3"
  },
  "language_info": {
   "codemirror_mode": {
    "name": "ipython",
    "version": 3
   },
   "file_extension": ".py",
   "mimetype": "text/x-python",
   "name": "python",
   "nbconvert_exporter": "python",
   "pygments_lexer": "ipython3",
   "version": "3.10.9"
  },
  "orig_nbformat": 4
 },
 "nbformat": 4,
 "nbformat_minor": 2
}
